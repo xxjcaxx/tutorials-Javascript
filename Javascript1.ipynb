{
 "cells": [
  {
   "cell_type": "markdown",
   "id": "354ccbdc",
   "metadata": {},
   "source": [
    "# Variables\n",
    "## Tipus de variables\n",
    "Les variables es poden declarar de varies maneres, però no totes són correctes:\n",
    "\n",
    "Abans de 2015, sols existía var. Per aixó encara es troben manuals on usen var y molts programadors i programadores encara l'utilitzen. No obstant, var no interessa perquè té àmbit de funció i no de block. "
   ]
  },
  {
   "cell_type": "code",
   "execution_count": 1,
   "id": "4354d6f5",
   "metadata": {},
   "outputs": [
    {
     "name": "stdout",
     "output_type": "stream",
     "text": [
      "dins 0\n",
      "dins 1\n",
      "dins 2\n",
      "dins 3\n",
      "dins 4\n",
      "dins 5\n",
      "dins 6\n",
      "dins 7\n",
      "dins 8\n",
      "dins 9\n",
      "fora 10\n"
     ]
    }
   ],
   "source": [
    "for (var i=0; i<10; i++){\n",
    "    console.log(\"dins\",i);\n",
    "}\n",
    "console.log(\"fora\",i);"
   ]
  },
  {
   "cell_type": "markdown",
   "id": "09fb4c24",
   "metadata": {},
   "source": [
    "Com es veu, fora del for, ja no deuria existir la variable i. Provem ara en let"
   ]
  },
  {
   "cell_type": "code",
   "execution_count": 4,
   "id": "e124fc04",
   "metadata": {
    "collapsed": true
   },
   "outputs": [
    {
     "name": "stdout",
     "output_type": "stream",
     "text": [
      "dins 0\n",
      "dins 1\n",
      "dins 2\n",
      "dins 3\n",
      "dins 4\n",
      "dins 5\n",
      "dins 6\n",
      "dins 7\n",
      "dins 8\n",
      "dins 9\n"
     ]
    },
    {
     "ename": "ReferenceError",
     "evalue": "j is not defined",
     "output_type": "error",
     "traceback": [
      "evalmachine.<anonymous>:4",
      "console.log(\"fora\",j);",
      "                   ^",
      "",
      "ReferenceError: j is not defined",
      "    at evalmachine.<anonymous>:4:20",
      "    at Script.runInThisContext (node:vm:129:12)",
      "    at Object.runInThisContext (node:vm:305:38)",
      "    at run ([eval]:1054:15)",
      "    at onRunRequest ([eval]:888:18)",
      "    at onMessage ([eval]:848:13)",
      "    at process.emit (node:events:390:28)",
      "    at emit (node:internal/child_process:917:12)",
      "    at processTicksAndRejections (node:internal/process/task_queues:84:21)"
     ]
    }
   ],
   "source": [
    "for (let j=0; j<10; j++){\n",
    "    console.log(\"dins\",j);\n",
    "}\n",
    "console.log(\"fora\",j);"
   ]
  },
  {
   "cell_type": "markdown",
   "id": "63332a9f",
   "metadata": {},
   "source": [
    "Al ser d'àmbit de grup, com en altres llenguatges, no existeix fora del for i evites problemes en variables residuals. "
   ]
  },
  {
   "cell_type": "markdown",
   "id": "f79a91e5",
   "metadata": {},
   "source": [
    "Hi ha un altre problema en var; que es pot declarar dues vegades. Si el lenguatge de programació no avisa al programador de que ha declarat una variable amb un nom preexisten, podem tindre molts problemes en codis grans. "
   ]
  },
  {
   "cell_type": "code",
   "execution_count": 5,
   "id": "8fc1a799",
   "metadata": {},
   "outputs": [
    {
     "name": "stdout",
     "output_type": "stream",
     "text": [
      "0\n",
      "1\n"
     ]
    }
   ],
   "source": [
    "var e = 0;\n",
    "console.log(e);\n",
    "// .... Imagina molt de codi en mitg\n",
    "var e = 1;\n",
    "console.log(e);"
   ]
  },
  {
   "cell_type": "markdown",
   "id": "f2402f62",
   "metadata": {},
   "source": [
    "Hi ha programadors que encara utilitzen var perquè consideren que tindre eixe comportament és una comoditat per a ells. No hi ha motius tècnics per continuar utilitzant var front a let. Per tant, a partir d'ara, sempre utilitzarem let o const. "
   ]
  },
  {
   "cell_type": "markdown",
   "id": "d28eea01",
   "metadata": {},
   "source": [
    "Mai s'ha de declarar variables sense let, var o const, ja que passen a ser variables globals, accesibles per tots i a formar part de l'objecte window (o global en nodejs). "
   ]
  },
  {
   "cell_type": "code",
   "execution_count": 9,
   "id": "8ed5e9b1",
   "metadata": {},
   "outputs": [
    {
     "name": "stdout",
     "output_type": "stream",
     "text": [
      "3\n"
     ]
    }
   ],
   "source": [
    "w = 3;\n",
    "console.log(global.w)"
   ]
  },
  {
   "cell_type": "markdown",
   "id": "162c2d32",
   "metadata": {},
   "source": [
    "### Resum:\n",
    "* Per declarar variables sempre utilitzarem let i per a constants sempre const. \n",
    "* Utilitzar var no està prohibit, però no té cap justificació tècnica i pot donar problemes. \n",
    "\n",
    "### Consells en Programació funcional: \n",
    "* La programació funcional, en general, evitar l'ús de variables, ja que modificar variables muta l'estat de l'aplicació. Per emmagatzemar dades és millor constants. \n",
    "* En Javascript, fer un objecte en const no el protegeix de la mutabilitat del seu contingut, sols de ser redeclarat. Si volem fer un objecte totalment immutable, utilitzarem Object.freeze().   "
   ]
  },
  {
   "cell_type": "markdown",
   "id": "3700324c",
   "metadata": {},
   "source": [
    "## Tipus de dades"
   ]
  },
  {
   "cell_type": "markdown",
   "id": "58f2b6c2",
   "metadata": {},
   "source": [
    "Generalment es diu Javascript és un llenguatge no tipat. Aquest afirmació és un poc superficial e innexacta. Ens referim a que no declarem el tipus de dades al donar d'alta una variable. No obstant, les variables sí tenen implícitament un tipus una vegada declarades."
   ]
  },
  {
   "cell_type": "code",
   "execution_count": 12,
   "id": "03ecdc40",
   "metadata": {},
   "outputs": [
    {
     "name": "stdout",
     "output_type": "stream",
     "text": [
      "number\n"
     ]
    }
   ],
   "source": [
    "(()=>{\n",
    "    let a = 1;\n",
    "    console.log(typeof(a));\n",
    "})(); "
   ]
  },
  {
   "cell_type": "markdown",
   "id": "7b7cc77e",
   "metadata": {},
   "source": [
    "El codi de dalt té varies coses que comentar: \n",
    "* Utilitzem una funció fletxa autoinvocada (()=>{})() que ja explicarem. Al ser una funció, tot el que declarem no ix de la funció i no molestarà més endavant en aquest document.\n",
    "* Declarem la variable a igual a un número i, efectivament, el typeof() ens dona que és un número.\n",
    "\n",
    "Es diu que és no tipat quan deuriem dir que és de tipat dinàmic. (Dynamic-Typed), ja que pot canviar de tipus al llarg del programa: "
   ]
  },
  {
   "cell_type": "code",
   "execution_count": 14,
   "id": "f9ff5d64",
   "metadata": {},
   "outputs": [
    {
     "name": "stdout",
     "output_type": "stream",
     "text": [
      "number\n",
      "string\n"
     ]
    }
   ],
   "source": [
    "(()=>{\n",
    "    let a = 1;\n",
    "    console.log(typeof(a));\n",
    "    a = '1';\n",
    "    console.log(typeof(a));\n",
    "})(); "
   ]
  },
  {
   "cell_type": "markdown",
   "id": "b986f2fc",
   "metadata": {},
   "source": [
    "Per tant, a sabem que les variables en JS sí tenen tipus i sabem que tenen tipat dinàmic. Una alta cosa a tindre en compte és que és un tipat fluix. (Weakly-Typed). Aixó vol dir que alguns tipus són compatibles entre ells per a algunes operacions:"
   ]
  },
  {
   "cell_type": "code",
   "execution_count": 18,
   "id": "2a66b062",
   "metadata": {},
   "outputs": [
    {
     "name": "stdout",
     "output_type": "stream",
     "text": [
      "number 1\n",
      "string 1H\n",
      "number 2468\n"
     ]
    }
   ],
   "source": [
    "(()=>{\n",
    "    let a = 1;\n",
    "    console.log(typeof(a),a);\n",
    "    a = a+'H';\n",
    "    console.log(typeof(a),a);\n",
    "    let b = \"1234\" * 2;\n",
    "    console.log(typeof(b),b);\n",
    "})(); "
   ]
  },
  {
   "cell_type": "markdown",
   "id": "0396dc7f",
   "metadata": {},
   "source": [
    "Gran part de les crítiques a JS venen de no tindre un tipat estàtic i aquest tipat fluix que, de vegades té resultats innesperats."
   ]
  },
  {
   "cell_type": "code",
   "execution_count": 21,
   "id": "55fa667c",
   "metadata": {},
   "outputs": [
    {
     "name": "stdout",
     "output_type": "stream",
     "text": [
      "10\n",
      "-10\n"
     ]
    }
   ],
   "source": [
    "(()=>{\n",
    "let first = \"11\";\n",
    "let second = 1;\n",
    "console.log(first - second);\n",
    "})(); "
   ]
  },
  {
   "cell_type": "markdown",
   "id": "83fb2141",
   "metadata": {},
   "source": [
    "Normalment aquestes crítiques venen de gent que acaba d'entrar a JS i no aprècia la potència que i simplicitat de codi que aixó proporciona. Si voleu veure una llista de coses rares que passen en el tipat: https://github.com/denysdovhan/wtfjs#-examples "
   ]
  },
  {
   "cell_type": "markdown",
   "id": "8640cf2a",
   "metadata": {},
   "source": [
    "Els tipus de dades són els següents: string, number, boolean, null, function, Object.\n",
    "\n",
    "Les funcions són un tipus especial d'objectes i el arrays també."
   ]
  },
  {
   "cell_type": "code",
   "execution_count": 22,
   "id": "f0576c90",
   "metadata": {},
   "outputs": [
    {
     "name": "stdout",
     "output_type": "stream",
     "text": [
      "string\n",
      "number\n",
      "number\n",
      "number\n",
      "number\n",
      "number\n",
      "number\n",
      "boolean\n",
      "object\n",
      "object\n"
     ]
    }
   ],
   "source": [
    "(()=>{\n",
    "let array_mix = [\n",
    " \"abcdef\", 2 , 2.1 , 2.9e3 , 2e-3 ,\n",
    " 0234 , 0x23AF , true , [1,2,3] , {'a': 1, 'b': 2}\n",
    "];\n",
    "for (let i=0;i<array_mix.length;i++) {\n",
    " console.log(typeof(array_mix[i]));\n",
    "}\n",
    "\n",
    "})(); "
   ]
  },
  {
   "cell_type": "markdown",
   "id": "a40e095b",
   "metadata": {},
   "source": [
    "Si JS no fora un llenguatge tipat, no necessitariem conversions. Ací tenim algunes de les més típiques:"
   ]
  },
  {
   "cell_type": "code",
   "execution_count": 26,
   "id": "c4b5d0da",
   "metadata": {},
   "outputs": [
    {
     "name": "stdout",
     "output_type": "stream",
     "text": [
      "1234 1234.456 1234.456\n",
      "1234.678 8\n"
     ]
    }
   ],
   "source": [
    "(()=>{\n",
    "let a = \"1234.456\";\n",
    "console.log(parseInt(a),parseFloat(a),Number(a))\n",
    "let b = 1234.678;\n",
    "console.log(b+\"\",(b+\"\").length)   \n",
    "})(); "
   ]
  },
  {
   "cell_type": "code",
   "execution_count": null,
   "id": "98c49721",
   "metadata": {},
   "outputs": [],
   "source": []
  }
 ],
 "metadata": {
  "kernelspec": {
   "display_name": "JavaScript (Node.js)",
   "language": "javascript",
   "name": "javascript"
  },
  "language_info": {
   "file_extension": ".js",
   "mimetype": "application/javascript",
   "name": "javascript",
   "version": "14.18.1"
  }
 },
 "nbformat": 4,
 "nbformat_minor": 5
}
