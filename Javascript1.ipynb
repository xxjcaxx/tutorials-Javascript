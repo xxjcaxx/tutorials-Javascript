{
 "cells": [
  {
   "cell_type": "markdown",
   "id": "b8e18756",
   "metadata": {},
   "source": [
    "## Índex\n",
    "\n",
    "* [Variables](#Variables)\n",
    "* [Tipus de dades](#Tipus-de-dades)\n"
   ]
  },
  {
   "cell_type": "markdown",
   "id": "354ccbdc",
   "metadata": {},
   "source": [
    "# Variables\n",
    "## Tipus de variables\n",
    "Les variables es poden declarar de varies maneres, però no totes són correctes:\n",
    "\n",
    "Abans de 2015, sols existía var. Per aixó encara es troben manuals on usen var y molts programadors i programadores encara l'utilitzen. No obstant, var no interessa perquè té àmbit de funció i no de block. "
   ]
  },
  {
   "cell_type": "code",
   "execution_count": 1,
   "id": "4354d6f5",
   "metadata": {},
   "outputs": [
    {
     "name": "stdout",
     "output_type": "stream",
     "text": [
      "dins 0\n",
      "dins 1\n",
      "dins 2\n",
      "dins 3\n",
      "dins 4\n",
      "dins 5\n",
      "dins 6\n",
      "dins 7\n",
      "dins 8\n",
      "dins 9\n",
      "fora 10\n"
     ]
    }
   ],
   "source": [
    "for (var i=0; i<10; i++){\n",
    "    console.log(\"dins\",i);\n",
    "}\n",
    "console.log(\"fora\",i);"
   ]
  },
  {
   "cell_type": "markdown",
   "id": "09fb4c24",
   "metadata": {},
   "source": [
    "Com es veu, fora del for, ja no deuria existir la variable i. Provem ara en let"
   ]
  },
  {
   "cell_type": "code",
   "execution_count": 4,
   "id": "e124fc04",
   "metadata": {
    "collapsed": true
   },
   "outputs": [
    {
     "name": "stdout",
     "output_type": "stream",
     "text": [
      "dins 0\n",
      "dins 1\n",
      "dins 2\n",
      "dins 3\n",
      "dins 4\n",
      "dins 5\n",
      "dins 6\n",
      "dins 7\n",
      "dins 8\n",
      "dins 9\n"
     ]
    },
    {
     "ename": "ReferenceError",
     "evalue": "j is not defined",
     "output_type": "error",
     "traceback": [
      "evalmachine.<anonymous>:4",
      "console.log(\"fora\",j);",
      "                   ^",
      "",
      "ReferenceError: j is not defined",
      "    at evalmachine.<anonymous>:4:20",
      "    at Script.runInThisContext (node:vm:129:12)",
      "    at Object.runInThisContext (node:vm:305:38)",
      "    at run ([eval]:1054:15)",
      "    at onRunRequest ([eval]:888:18)",
      "    at onMessage ([eval]:848:13)",
      "    at process.emit (node:events:390:28)",
      "    at emit (node:internal/child_process:917:12)",
      "    at processTicksAndRejections (node:internal/process/task_queues:84:21)"
     ]
    }
   ],
   "source": [
    "for (let j=0; j<10; j++){\n",
    "    console.log(\"dins\",j);\n",
    "}\n",
    "console.log(\"fora\",j);"
   ]
  },
  {
   "cell_type": "markdown",
   "id": "63332a9f",
   "metadata": {},
   "source": [
    "Al ser d'àmbit de grup, com en altres llenguatges, no existeix fora del for i evites problemes en variables residuals. "
   ]
  },
  {
   "cell_type": "markdown",
   "id": "f79a91e5",
   "metadata": {},
   "source": [
    "Hi ha un altre problema en var; que es pot declarar dues vegades. Si el lenguatge de programació no avisa al programador de que ha declarat una variable amb un nom preexisten, podem tindre molts problemes en codis grans. "
   ]
  },
  {
   "cell_type": "code",
   "execution_count": 5,
   "id": "8fc1a799",
   "metadata": {},
   "outputs": [
    {
     "name": "stdout",
     "output_type": "stream",
     "text": [
      "0\n",
      "1\n"
     ]
    }
   ],
   "source": [
    "var e = 0;\n",
    "console.log(e);\n",
    "// .... Imagina molt de codi en mitg\n",
    "var e = 1;\n",
    "console.log(e);"
   ]
  },
  {
   "cell_type": "markdown",
   "id": "f2402f62",
   "metadata": {},
   "source": [
    "Hi ha programadors que encara utilitzen var perquè consideren que tindre eixe comportament és una comoditat per a ells. No hi ha motius tècnics per continuar utilitzant var front a let. Per tant, a partir d'ara, sempre utilitzarem let o const. "
   ]
  },
  {
   "cell_type": "markdown",
   "id": "d28eea01",
   "metadata": {},
   "source": [
    "Mai s'ha de declarar variables sense let, var o const, ja que passen a ser variables globals, accesibles per tots i a formar part de l'objecte window (o global en nodejs). "
   ]
  },
  {
   "cell_type": "code",
   "execution_count": 9,
   "id": "8ed5e9b1",
   "metadata": {},
   "outputs": [
    {
     "name": "stdout",
     "output_type": "stream",
     "text": [
      "3\n"
     ]
    }
   ],
   "source": [
    "w = 3;\n",
    "console.log(global.w)"
   ]
  },
  {
   "cell_type": "markdown",
   "id": "162c2d32",
   "metadata": {},
   "source": [
    "### Resum:\n",
    "* Per declarar variables sempre utilitzarem let i per a constants sempre const. \n",
    "* Utilitzar var no està prohibit, però no té cap justificació tècnica i pot donar problemes. \n",
    "\n",
    "### Consells en Programació funcional: \n",
    "* La programació funcional, en general, evitar l'ús de variables, ja que modificar variables muta l'estat de l'aplicació. Per emmagatzemar dades és millor constants. \n",
    "* En Javascript, fer un objecte en const no el protegeix de la mutabilitat del seu contingut, sols de ser redeclarat. Si volem fer un objecte totalment immutable, utilitzarem Object.freeze().   "
   ]
  },
  {
   "cell_type": "markdown",
   "id": "3700324c",
   "metadata": {},
   "source": [
    "## Tipus de dades"
   ]
  },
  {
   "cell_type": "markdown",
   "id": "58f2b6c2",
   "metadata": {},
   "source": [
    "Generalment es diu Javascript és un llenguatge no tipat. Aquest afirmació és un poc superficial e innexacta. Ens referim a que no declarem el tipus de dades al donar d'alta una variable. No obstant, les variables sí tenen implícitament un tipus una vegada declarades."
   ]
  },
  {
   "cell_type": "code",
   "execution_count": 12,
   "id": "03ecdc40",
   "metadata": {},
   "outputs": [
    {
     "name": "stdout",
     "output_type": "stream",
     "text": [
      "number\n"
     ]
    }
   ],
   "source": [
    "(()=>{\n",
    "    let a = 1;\n",
    "    console.log(typeof(a));\n",
    "})(); "
   ]
  },
  {
   "cell_type": "markdown",
   "id": "7b7cc77e",
   "metadata": {},
   "source": [
    "El codi de dalt té varies coses que comentar: \n",
    "* Utilitzem una funció fletxa autoinvocada (()=>{})() que ja explicarem. Al ser una funció, tot el que declarem no ix de la funció i no molestarà més endavant en aquest document.\n",
    "* Declarem la variable a igual a un número i, efectivament, el typeof() ens dona que és un número.\n",
    "\n",
    "Es diu que és no tipat quan deuriem dir que és de tipat dinàmic. (Dynamic-Typed), ja que pot canviar de tipus al llarg del programa: "
   ]
  },
  {
   "cell_type": "code",
   "execution_count": 14,
   "id": "f9ff5d64",
   "metadata": {},
   "outputs": [
    {
     "name": "stdout",
     "output_type": "stream",
     "text": [
      "number\n",
      "string\n"
     ]
    }
   ],
   "source": [
    "(()=>{\n",
    "    let a = 1;\n",
    "    console.log(typeof(a));\n",
    "    a = '1';\n",
    "    console.log(typeof(a));\n",
    "})(); "
   ]
  },
  {
   "cell_type": "markdown",
   "id": "b986f2fc",
   "metadata": {},
   "source": [
    "Per tant, a sabem que les variables en JS sí tenen tipus i sabem que tenen tipat dinàmic. Una alta cosa a tindre en compte és que és un tipat fluix. (Weakly-Typed). Aixó vol dir que alguns tipus són compatibles entre ells per a algunes operacions:"
   ]
  },
  {
   "cell_type": "code",
   "execution_count": 18,
   "id": "2a66b062",
   "metadata": {},
   "outputs": [
    {
     "name": "stdout",
     "output_type": "stream",
     "text": [
      "number 1\n",
      "string 1H\n",
      "number 2468\n"
     ]
    }
   ],
   "source": [
    "(()=>{\n",
    "    let a = 1;\n",
    "    console.log(typeof(a),a);\n",
    "    a = a+'H';\n",
    "    console.log(typeof(a),a);\n",
    "    let b = \"1234\" * 2;\n",
    "    console.log(typeof(b),b);\n",
    "})(); "
   ]
  },
  {
   "cell_type": "markdown",
   "id": "0396dc7f",
   "metadata": {},
   "source": [
    "Gran part de les crítiques a JS venen de no tindre un tipat estàtic i aquest tipat fluix que, de vegades té resultats innesperats."
   ]
  },
  {
   "cell_type": "code",
   "execution_count": 21,
   "id": "55fa667c",
   "metadata": {},
   "outputs": [
    {
     "name": "stdout",
     "output_type": "stream",
     "text": [
      "10\n",
      "-10\n"
     ]
    }
   ],
   "source": [
    "(()=>{\n",
    "let first = \"11\";\n",
    "let second = 1;\n",
    "console.log(first - second);\n",
    "})(); "
   ]
  },
  {
   "cell_type": "markdown",
   "id": "83fb2141",
   "metadata": {},
   "source": [
    "Normalment aquestes crítiques venen de gent que acaba d'entrar a JS i no aprècia la potència que i simplicitat de codi que aixó proporciona. Si voleu veure una llista de coses rares que passen en el tipat: https://github.com/denysdovhan/wtfjs#-examples "
   ]
  },
  {
   "cell_type": "markdown",
   "id": "8640cf2a",
   "metadata": {},
   "source": [
    "Els tipus de dades són els següents: string, number, boolean, null, function, Object.\n",
    "\n",
    "Les funcions són un tipus especial d'objectes i el arrays també."
   ]
  },
  {
   "cell_type": "code",
   "execution_count": 22,
   "id": "f0576c90",
   "metadata": {},
   "outputs": [
    {
     "name": "stdout",
     "output_type": "stream",
     "text": [
      "string\n",
      "number\n",
      "number\n",
      "number\n",
      "number\n",
      "number\n",
      "number\n",
      "boolean\n",
      "object\n",
      "object\n"
     ]
    }
   ],
   "source": [
    "(()=>{\n",
    "let array_mix = [\n",
    " \"abcdef\", 2 , 2.1 , 2.9e3 , 2e-3 ,\n",
    " 0234 , 0x23AF , true , [1,2,3] , {'a': 1, 'b': 2}\n",
    "];\n",
    "for (let i=0;i<array_mix.length;i++) {\n",
    " console.log(typeof(array_mix[i]));\n",
    "}\n",
    "\n",
    "})(); "
   ]
  },
  {
   "cell_type": "markdown",
   "id": "a40e095b",
   "metadata": {},
   "source": [
    "Si JS no fora un llenguatge tipat, no necessitariem conversions. Ací tenim algunes de les més típiques:"
   ]
  },
  {
   "cell_type": "code",
   "execution_count": 26,
   "id": "c4b5d0da",
   "metadata": {},
   "outputs": [
    {
     "name": "stdout",
     "output_type": "stream",
     "text": [
      "1234 1234.456 1234.456\n",
      "1234.678 8\n"
     ]
    }
   ],
   "source": [
    "(()=>{\n",
    "let a = \"1234.456\";\n",
    "console.log(parseInt(a),parseFloat(a),Number(a))\n",
    "let b = 1234.678;\n",
    "console.log(b+\"\",(b+\"\").length)   \n",
    "})(); "
   ]
  },
  {
   "cell_type": "markdown",
   "id": "f16133a5",
   "metadata": {},
   "source": [
    "## Funcions\n",
    "\n",
    "Les funcions en Javascript es poden crear de varies maneres. També poden ser assignades a variables, utilitzades com a arguments d'altres funcions o retornades per altres funcions. Una funció és un tipus especial d'Objecte.\n",
    "* Javascript no dona error si crides a una funció amb més arguments.\n",
    "* L’orde dels arguments és important. \n",
    "* Les funcions poden utilitzar i modificar variables globals. (side-effects)\n",
    "* Pot o no tindre return.\n",
    "* Amb () invoques a la funció, sense ella a l’objecte que representa.\n",
    "* Una funció és un objecte.\n",
    "* Poden tindre arguments per defecte amb un = en els arguments.\n",
    "* Qualsevol variable o funció declarades dins d'una funció es queda en eixe àmbit i no por ser accedida fora de la funció.\n",
    "\n",
    "\n",
    "### Declaració de funció:\n",
    "Es tracta de la manera més tradicional i pareguda a Java o C. En general, és la millor manera de fer funcions, encara que és la que més codi requereix. Mirem un exemple:"
   ]
  },
  {
   "cell_type": "code",
   "execution_count": 5,
   "id": "cb383072",
   "metadata": {},
   "outputs": [
    {
     "name": "stdout",
     "output_type": "stream",
     "text": [
      "El resultat és 3\n"
     ]
    },
    {
     "data": {
      "text/plain": [
       "3"
      ]
     },
     "execution_count": 5,
     "metadata": {},
     "output_type": "execute_result"
    }
   ],
   "source": [
    "function suma_y_mostra(numero1,numero2) {\n",
    " let resultat = numero1 + numero2;\n",
    " console.log(\"El resultat és \" + resultat);\n",
    " return resultat;\n",
    "}\n",
    "\n",
    "suma_y_mostra(1,2);"
   ]
  },
  {
   "cell_type": "markdown",
   "id": "44986c26",
   "metadata": {},
   "source": [
    "### Expressió de funció:\n",
    "\n",
    "El que fem és assignar una funció a una variable o constant. Pot ser útil per canviar el nom o evitar el hoising. Es declara en temps d'execució. Pot ser una funció anònima, ja que el nom el fica la variable, però si és anònima no pot ser recursiva:"
   ]
  },
  {
   "cell_type": "code",
   "execution_count": 6,
   "id": "fdd56886",
   "metadata": {},
   "outputs": [
    {
     "name": "stdout",
     "output_type": "stream",
     "text": [
      "120\n"
     ]
    }
   ],
   "source": [
    "(()=>{\n",
    "    \n",
    "    let factorial = function fac(n) {return n<2 ? 1 : n*fac(n-1)};\n",
    "    console.log(factorial(5))\n",
    "    \n",
    "})();"
   ]
  },
  {
   "cell_type": "markdown",
   "id": "5fda920a",
   "metadata": {},
   "source": [
    "### Funcions Fletxa:\n",
    "* Una simplificació de les funcions anònimes. \n",
    "* No es necessita escriure function, ni return ni {}\n",
    "* No es comporten com a objectes ni tenen this.\n",
    "* No són Hoisted.\n",
    "* Es recomana utilitzar const, ja que sempre són una constant.\n",
    "* Si tenen més d’una instrucció necessites els {} i el return.\n",
    "* No es poden fer métodes (al no tindre this, no poden accedir a l’objecte) .\n"
   ]
  },
  {
   "cell_type": "code",
   "execution_count": 13,
   "id": "9e350a90",
   "metadata": {},
   "outputs": [
    {
     "name": "stdout",
     "output_type": "stream",
     "text": [
      "2\n",
      "***function: [object Object] Pepe Garcia ***Fletxa [object global] undefined undefined\n"
     ]
    }
   ],
   "source": [
    "(()=>{\n",
    "    const x = (x, y) => x * y;\n",
    "    console.log(x(1,2));\n",
    "    \n",
    "    persona = { \n",
    "        nom: 'Pepe',\n",
    "        cognom: 'Garcia',\n",
    "        consulta: function () { return `${this} ${this.nom} ${this.cognom}`},\n",
    "        consultar: () => `${this} ${this.nom} ${this.cognom}`\n",
    "    }\n",
    "    console.log(\"***function:\", persona.consulta(),\"***Fletxa\", persona.consultar());\n",
    "\n",
    "})();"
   ]
  },
  {
   "cell_type": "markdown",
   "id": "136128c8",
   "metadata": {},
   "source": [
    "### Funcions Auto-invocades:\n",
    "\n",
    "IIFE, es tracta de declarar una funció però executar-la en el moment. Aquesta funció s'executa i desapareix. \n",
    "\n",
    "* Si posem () en la definició d’una funció, aquesta es crea i s’executa en el moment, sense que ningú la cride.\n",
    "* Les variables no són accessibles de fora de la funció. \n",
    "* Codi que s’executa immediatament, però aïllat de la resta.\n",
    "* Accepta arguments amb els () del final.\n",
    "* Amb una expressió de funció, guarda el que retorne, no la funció.\n",
    "* Recomanables per al “main” de l’aplicació.\n",
    "\n",
    "En aquest notebook estem utilitzant-les en els exemples per a que les variables declarades dins no siguen accessibles en els següents exemples.\n",
    "\n"
   ]
  },
  {
   "cell_type": "markdown",
   "id": "6d6b5802",
   "metadata": {},
   "source": [
    "### Criteris per a seleccionar cada tipus:\n",
    "\n",
    "Si sols utilitzem declaracions de funcions no anem a tindre cap problema. La resta simplifiquen alguns problemes o necessiten menys codi. Cada programador/a té un estil i ací sols podem donar alguns consells. De la llista de consells que ve a continuació, alguns són contradictoris. És a criteri de cadascun/a triar el considere oportú:\n",
    "\n",
    "* Per a funcions globals, funcions que va a exportar en mòduls: Declaració de funció.\n",
    "* Per a funcions \"importants\" que necessiten ser traçades: Declaració de funció (perquè el nom apareix en el debug)\n",
    "* Per poder declarar funcions desprès de línies de codi que les invoquen: Declaració de funció: (Hoising)\n",
    "* Per crear funcions en temps d'execució: Expressió de funció.\n",
    "* Per forçar-se a programar declarant les coses abans d'utilitzar-les: Expressió de funció.\n",
    "* Per simplificar l'enviament de funcions com a arguments: Expressió de funció.\n",
    "* Per poder utilitzar el this dins de funcions en objectes: Declaració de funció.\n",
    "* Per obviar el this de l'objecte que la crida i quedar-se en el this del context anterior: Funcions fletxa.\n",
    "* Per a funcions anònimes dins de callbacks: Declaració de funció anònima.\n",
    "* Per a funcions anònimes més curtes dins de callbacks: Funcions fletxa.\n",
    "* Per a funcions traçables dins de callbacks: Declaració de funcions.\n",
    "* Per a callbacks que puguen utilitzar el this de objecte original: Funcions fletxa.\n",
    "* Per a funcions dins de funcions d'alt ordre com map(), filter() o reduce(): Funcions fletxa. (Per la seua simplicitat)\n",
    "* Per a funcions dins de .then() en promeses: Funcions fletxa (Per la simplicitat) o Declaració de funcions amb nom per poder traçar-les.\n",
    "* En programació funcional es recomana sempre utilitzar declaracions de funció perquè el nom serveix de \"comentari\" sobre el que fa la funció. \n",
    "* En programació funcional, dins de maps, per a coses molt simples que no s'han de reutilitzar, per a Currying, es poden utilitzar funcions fletxa per simplificar el codi."
   ]
  },
  {
   "cell_type": "markdown",
   "id": "81b5cdbe",
   "metadata": {},
   "source": [
    "## Elements de llenguatge"
   ]
  },
  {
   "cell_type": "markdown",
   "id": "befcc822",
   "metadata": {},
   "source": [
    "## Arrays"
   ]
  },
  {
   "cell_type": "markdown",
   "id": "24acf258",
   "metadata": {},
   "source": [
    "## Objectes i classes"
   ]
  },
  {
   "cell_type": "markdown",
   "id": "19d8debf",
   "metadata": {},
   "source": [
    "## Iteradors"
   ]
  },
  {
   "cell_type": "markdown",
   "id": "48a7602b",
   "metadata": {},
   "source": [
    "## Symbol"
   ]
  },
  {
   "cell_type": "markdown",
   "id": "fab1bfac",
   "metadata": {},
   "source": []
  }
 ],
 "metadata": {
  "kernelspec": {
   "display_name": "JavaScript (Node.js)",
   "language": "javascript",
   "name": "javascript"
  },
  "language_info": {
   "file_extension": ".js",
   "mimetype": "application/javascript",
   "name": "javascript",
   "version": "16.13.0"
  }
 },
 "nbformat": 4,
 "nbformat_minor": 5
}
