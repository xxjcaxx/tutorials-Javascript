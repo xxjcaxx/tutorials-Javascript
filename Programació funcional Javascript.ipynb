{
 "cells": [
  {
   "cell_type": "markdown",
   "id": "af0ee930",
   "metadata": {},
   "source": [
    "# Programació funcional\n",
    "\n",
    "### Lectures:\n",
    "* https://lemoncode.net/lemoncode-blog/2017/9/5/introduccion-programacion-funcional-javascript\n",
    "* https://www.freecodecamp.org/news/javascript-immutability-frozen-objects-with-examples/ \n",
    "* https://www.geeksforgeeks.org/why-is-immutability-so-important-in-javascript/\n",
    "* https://javascript.info/currying-partials\n",
    "* https://dev.to/mpodlasin/functional-programming-in-js-part-i-composition-currying-lodash-and-ramda-1ohb\n",
    "* https://github.com/getify/Functional-Light-JS \n",
    "* https://mostly-adequate.gitbook.io/mostly-adequate-guide/ "
   ]
  },
  {
   "cell_type": "markdown",
   "id": "cf7fe9b1",
   "metadata": {},
   "source": [
    "## Índex:\n",
    "* [Programació funcional en JS](#Programació-funcional-en-JS)\n",
    " * [Definicions](#Definicions)\n",
    " * [Funcions vs Mètodes vs Procediments](#Funcions-vs-Mètodes-vs-Procediments)\n",
    " * [Arguments de les funcions](#Arguments-de-les-funcions)\n",
    " * [Immutabilitat](#Immutabilitat)\n",
    " * [Purificació de Funcions](#Purificació-de-funcions)\n",
    " * [Funcions d'ordre Superior](#Funcions-d'ordre-superior)\n",
    " * [Currying](#Currying)\n",
    " * [Composició](#Composició)\n",
    " "
   ]
  },
  {
   "cell_type": "markdown",
   "id": "2e5b7ad3",
   "metadata": {},
   "source": [
    "## Programació funcional en JS\n",
    "-   Hi ha llenguatges totalment funcionals: Lisp, Haskell, Scala\n",
    "\n",
    "-   Altres són multiparadigma: Java, Javascript, Python... \n",
    "\n",
    "-   Javascript ha anat incorporant funcions per a poder programar de manera funcional si vols.\n",
    "\n",
    "-   Fins a ES6, llibreries com Lodash o Underscore van suplir les carències. \n",
    "\n",
    "-   La programació funcional ha eixit del mon acadèmic al popular gràcies a JS, entre altres."
   ]
  },
  {
   "cell_type": "markdown",
   "id": "e6a82998",
   "metadata": {},
   "source": [
    "### Definicions\n",
    "-   Avaluació declarativa vs imperativa\n",
    "\n",
    "-   Funcions Pures\n",
    "\n",
    "-   Immutabilitat\n",
    "\n",
    "-   Sense efectes secundaris (side effects)\n",
    "\n",
    "-   És un paradigma, una manera de pensar i escriure codi.\n",
    "\n",
    "-   Tracta de reduir la programació imperativa i POO.\n",
    "\n",
    "Cal aclarir que la programació estructurada és perfectament correcta, així com la orientada a objectes. De fet, en general, el millor és combinar el millor de cadascuna segons ens interesse.\n",
    "\n",
    "No es tracta de cap concepte nou. Durant tota la història de la informàtica s'ha estudiat com una alternativa a la programació imperativa (l'ùnica que executa el processador). Es tracta d'aproximar-se a una notació matemàtica de les funcions, a una manera més declarativa de programar. No s'indica cóm se fan les coses, sino qué vols que passe. \n",
    "\n",
    "Gràcies als llenguatges interpretats i multiparadigma, la programació funcional s'ha popularitzat. Javascript té algunes carències, però amb biblioteques o fent alguna funció auxiliar es pot aconseguir resultats molt interessants. \n",
    "\n",
    "Una de les premises fonamentals és que els programes siguen més ***confiables*** perquè s'eviten algunes errades i perquè el codi pot quedar més fàcil de llegir i de testar.\n",
    "\n"
   ]
  },
  {
   "cell_type": "markdown",
   "id": "6fb777cb",
   "metadata": {},
   "source": [
    "### Funcions vs Mètodes vs Procediments\n",
    "\n",
    "Quan programem en Javascript no hi ha cap diferència de sintaxi entre una funció, un procediment o un mètode. Però anem a diferenciar-los conceptualment pel que fan:\n",
    "* Una funció sempre accepta arguments i sempre retorna un valor.\n",
    "* Un procediment pot no acceptar arguments i pot no retornar un valor (efectes col·laterals).\n",
    "* Un mètode és un procediment o funció dins d'un objecte.\n",
    "\n",
    "Totes les funcions de les matemàtiques tenen dades d'entrada (la x) i dades d'eixida (la y, per exemple). \n",
    "\n",
    "En la programació funcional s'evitaran en la mesura del possible els procediments i els mètodes. Els primers per no ser funcions pures i els segons per ser part d'objectes i, per tant, de la POO.\n",
    "\n"
   ]
  },
  {
   "cell_type": "markdown",
   "id": "945fd8cc",
   "metadata": {},
   "source": [
    "### Arguments de les funcions\n",
    "\n",
    "Les funcions en JS són molt flexibles en quan a arguments. Poden, per exemple, ser cridades en més o menys arguments dels que són declarades, tindre arguments per defecte, arguments amb nom de variable o una llista d'arguments. Aquestes són algunes consideracions respecte als arguments i la programació funcional:\n",
    "* No deurien tindre molts arguments d'entrada. De fet, es considera que 1 argument és l'ideal en la programació funcional.\n",
    "* La quantitat d'arguments (Arity) es pot veure en l'atribut length.\n",
    "* Si la funció accepta un nombre arbitrari de paràmetres es fa en ...args (spread operator)\n",
    "* En qualsevol cas, per a acceptar un nombre arbitrari sempre és millor clavar-los en un array.\n",
    "* Algunes funcions com Math.max(), slice(), concat()... accepten molts paràmetres. La millor manera, és aplicar-los en ... sobre un array.\n",
    "\n",
    "Anem a mirar varis exemples:"
   ]
  },
  {
   "cell_type": "code",
   "execution_count": 39,
   "id": "36bde00e",
   "metadata": {},
   "outputs": [
    {
     "name": "stdout",
     "output_type": "stream",
     "text": [
      "undefined undefined undefined []\n",
      "1 2 3 []\n",
      "1 2 3 [ 4 ]\n",
      "1 2 3 [ 4, 5 ]\n"
     ]
    }
   ],
   "source": [
    "(()=>{\n",
    "function foo(x,y,z,...args) {  // Acceptar un nombre arbitrari de paràmetres\n",
    "    console.log( x, y, z, args );\n",
    "}\n",
    "\n",
    "foo();                  // undefined undefined undefined []\n",
    "foo( 1, 2, 3 );         // 1 2 3 []\n",
    "foo( 1, 2, 3, 4 );      // 1 2 3 [ 4 ]\n",
    "foo( 1, 2, 3, 4, 5 );   // 1 2 3 [ 4, 5 ]\n",
    "})(); "
   ]
  },
  {
   "cell_type": "code",
   "execution_count": 41,
   "id": "6f8dc75f",
   "metadata": {},
   "outputs": [
    {
     "name": "stdout",
     "output_type": "stream",
     "text": [
      "8\n"
     ]
    }
   ],
   "source": [
    "(()=>{\n",
    "\n",
    "    const a = [1,2,3,4,5,6,7,8,6,5,4,3,2,1];\n",
    "    console.log(Math.max(...a));  // Passar un array a una funció amb ...args\n",
    "    \n",
    "})(); "
   ]
  },
  {
   "cell_type": "code",
   "execution_count": 45,
   "id": "8a43adad",
   "metadata": {},
   "outputs": [
    {
     "name": "stdout",
     "output_type": "stream",
     "text": [
      "1 2 [ 3, 4 ]\n"
     ]
    }
   ],
   "source": [
    "(()=>{\n",
    "\n",
    "function foo( [x,y,...args] ) {\n",
    "    console.log(x,y,args);\n",
    "}\n",
    "\n",
    "foo( [1,2,3,4] );\n",
    "    \n",
    "})(); "
   ]
  },
  {
   "cell_type": "markdown",
   "id": "bc10cd05",
   "metadata": {},
   "source": [
    "L'últim exemple és un exemple de programació funcional correcta quan la funció ha d'acceptar més d'un argument. Li passem un Array amb més sub-paràmetres dins. Podriem acceptar un sol argument i assignar les variables dins del codi, pero d'aquesta manera, amb ***Parameter Destructuring*** , Mirant sols la declaració de la funció, ja tenim el nom de les variables. Es tracta de intentar sempre usar un ***Estil declaratiu*** i no tant imperatiu. \n",
    "\n",
    "Un altre exemple:"
   ]
  },
  {
   "cell_type": "code",
   "execution_count": 47,
   "id": "2aaf75da",
   "metadata": {},
   "outputs": [
    {
     "name": "stdout",
     "output_type": "stream",
     "text": [
      "undefined 3\n"
     ]
    }
   ],
   "source": [
    "function foo( {x,y} = {} ) {  // Parameter destructuring i valor per defecte {}.\n",
    "    console.log( x, y );\n",
    "}\n",
    "\n",
    "foo( { y: 3} );   // Li indiquem el nom del paràmetre i pot estar desordenat o faltar dades."
   ]
  },
  {
   "cell_type": "markdown",
   "id": "bcfd0d6d",
   "metadata": {},
   "source": [
    "Les funcions anteriors són en realitat métodes al no retornar res i tindre efectes col·laterals. \n",
    "\n",
    "Les funcions sempre han de retornar algun valor. Si volem retornar més d'un, es pot clavar en un array o objecte i acceptar l'eixida en Object Destructuring:"
   ]
  },
  {
   "cell_type": "code",
   "execution_count": 48,
   "id": "ca4270fa",
   "metadata": {},
   "outputs": [
    {
     "name": "stdout",
     "output_type": "stream",
     "text": [
      "77\n"
     ]
    }
   ],
   "source": [
    "function foo() {\n",
    "    return [ 23, 54 ];\n",
    "}\n",
    "var [ x, y ] = foo();\n",
    "console.log( x + y );  "
   ]
  },
  {
   "cell_type": "markdown",
   "id": "32dcb143",
   "metadata": {},
   "source": [
    "En qualsevol cas, les funcions ideals accepten un argument i retornen un valor.\n",
    "\n",
    "Tampoc deurien tindre un return al mig de la funció. Moltes vegades és més cómode, però sempre serà més fàcil de llegir en un únic return.\n",
    "\n",
    "Un altre \"Argument\" que tenen moltes funcions és ***this***. En el cas de funcions dins d'objectes, és l'objecte que invoca la funció. En programació funcional es pot dir que ***està prohibit el this***. Si una funció utilitza this, està implícitament diguent que utilitza variables de fora de la funció, per tant, pot tindre efectes col·laterals.\n",
    "\n",
    "Si es vol ser totalment rigorós en la programació funcional, sols farem declaracions de funcions amb nom. Evitarem les funcions anònimes, les expressions de funció i les funcions fletxa. Les funcions tradicionals necessiten més escritura de codi, però són més fàcilment testables. "
   ]
  },
  {
   "cell_type": "markdown",
   "id": "4a9de146",
   "metadata": {},
   "source": [
    "### Immutabilitat \n",
    "https://www.freecodecamp.org/news/javascript-immutability-frozen-objects-with-examples/\n",
    "\n",
    "-   Evitar que una part del programa modifique dades de forma inconsistent.\n",
    "\n",
    "-   Reduir o eliminar les assignacions\n",
    "\n",
    "-   Utilitzar estructures de dades inmutables.\n",
    "\n",
    "-   Copiar objectes si es vol modificar en compte d'assignar per referència.\n",
    "\n",
    " -   Funcions freeze i seal\n",
    "\n",
    " -  Els strings són immutables"
   ]
  },
  {
   "cell_type": "markdown",
   "id": "a24bbaef",
   "metadata": {},
   "source": [
    "Anem a veure un exemple de cóm es muta i cóm evitar la mutació:"
   ]
  },
  {
   "cell_type": "code",
   "execution_count": 1,
   "id": "88247712",
   "metadata": {},
   "outputs": [
    {
     "name": "stdout",
     "output_type": "stream",
     "text": [
      "[ 7, 7, 5, 9, 8, 6 ]\n",
      "[\n",
      "  5, 5, 6, 6,\n",
      "  7, 7, 7\n",
      "]\n"
     ]
    }
   ],
   "source": [
    "(()=>{\n",
    "const daysWorked = [7, 7, 5, 9, 8, 6, 6, 7, 9, 5];\n",
    "const lastSixMonths = daysWorked.slice(0,6);\n",
    "console.log(lastSixMonths)\n",
    "const sortedDaysWorked = daysWorked.sort();\n",
    "const lastSevenMonths = daysWorked.slice(0,7);\n",
    "console.log(lastSevenMonths)\n",
    "})(); "
   ]
  },
  {
   "cell_type": "markdown",
   "id": "30ad855f",
   "metadata": {},
   "source": [
    "Com es veu, el segon array no mostra els últims perquè sort() ha mutat l'array. En el següent exemple evitem la mutació fent una còpia:"
   ]
  },
  {
   "cell_type": "code",
   "execution_count": 2,
   "id": "082813c6",
   "metadata": {},
   "outputs": [
    {
     "name": "stdout",
     "output_type": "stream",
     "text": [
      "[ 7, 7, 5, 9, 8, 6 ]\n",
      "[\n",
      "  7, 7, 5, 9,\n",
      "  8, 6, 6\n",
      "]\n"
     ]
    }
   ],
   "source": [
    "(()=>{\n",
    "const daysWorked = [7, 7, 5, 9, 8, 6, 6, 7, 9, 5];\n",
    "const lastSixMonths = daysWorked.slice(0,6);\n",
    "console.log(lastSixMonths)\n",
    "const sortedDaysWorked = [...daysWorked].sort();  // còpia amb spread operator\n",
    "const lastSevenMonths = daysWorked.slice(0,7);\n",
    "console.log(lastSevenMonths)\n",
    "})(); "
   ]
  },
  {
   "cell_type": "markdown",
   "id": "f63a88fc",
   "metadata": {},
   "source": [
    "#### Congelar"
   ]
  },
  {
   "cell_type": "code",
   "execution_count": 3,
   "id": "f3f6adb1",
   "metadata": {},
   "outputs": [
    {
     "name": "stdout",
     "output_type": "stream",
     "text": [
      "[ 1, 2, 3, 10000 ]\n"
     ]
    }
   ],
   "source": [
    "(()=>{\n",
    "let foo = [1, 2, 3];\n",
    "let bar = foo;\n",
    "bar.push(10000);\n",
    "\n",
    "console.log(foo)\n",
    "})(); "
   ]
  },
  {
   "cell_type": "markdown",
   "id": "39e78be9",
   "metadata": {},
   "source": [
    "Com podem observar, al modificar bar, també es modifica foo. Es tracta d'un efecte totalment perillós, ja que les referències a objectes es poden descontrolar i no sabem amb seguretat l'estat real de l'array foo.\n",
    "\n",
    "Amb les funcions freeze i seal es poden protegir els objectes. Freeze no permet canviar cap element de l'array. seal no permet afegir elements. "
   ]
  },
  {
   "cell_type": "code",
   "execution_count": 4,
   "id": "b656e924",
   "metadata": {},
   "outputs": [
    {
     "ename": "TypeError",
     "evalue": "Cannot add property 3, object is not extensible",
     "output_type": "error",
     "traceback": [
      "evalmachine.<anonymous>:5",
      "bar.push(10000);",
      "    ^",
      "",
      "TypeError: Cannot add property 3, object is not extensible",
      "    at Array.push (<anonymous>)",
      "    at evalmachine.<anonymous>:5:5",
      "    at evalmachine.<anonymous>:8:3",
      "    at Script.runInThisContext (vm.js:134:12)",
      "    at Object.runInThisContext (vm.js:310:38)",
      "    at run ([eval]:1054:15)",
      "    at onRunRequest ([eval]:888:18)",
      "    at onMessage ([eval]:848:13)",
      "    at process.emit (events.js:400:28)",
      "    at emit (internal/child_process.js:912:12)"
     ]
    }
   ],
   "source": [
    "(()=>{\n",
    "let foo = [1, 2, 3];\n",
    "Object.freeze(foo);\n",
    "let bar = foo;\n",
    "bar.push(10000);\n",
    "\n",
    "console.log(foo)\n",
    "})(); "
   ]
  },
  {
   "cell_type": "markdown",
   "id": "0a957683",
   "metadata": {},
   "source": [
    "Amb l'exemple anterior hem \"congelat\" un array i ja no és extensible. Provoca un error i nosaltres, com a programadors/es el detectem i corregim la mutació no dessitjada. Però no funciona profundament, ja que els objectes de dins no estàn congelats:"
   ]
  },
  {
   "cell_type": "code",
   "execution_count": 5,
   "id": "9fa4acb5",
   "metadata": {},
   "outputs": [
    {
     "name": "stdout",
     "output_type": "stream",
     "text": [
      "[ 1, 2, 3, { a: 'a', b: 'b', c: 5 } ]\n"
     ]
    }
   ],
   "source": [
    "(()=>{\n",
    "let foo = [1, 2, 3,{a:'a',b:'b'}];\n",
    "Object.freeze(foo);\n",
    "let bar = foo;\n",
    "bar[3].c = 5;\n",
    "\n",
    "console.log(foo)\n",
    "})(); "
   ]
  },
  {
   "cell_type": "markdown",
   "id": "26957aa0",
   "metadata": {},
   "source": [
    "Es veu cóm l'objecte literal intern pot ser mutat. Si es vol una congelació absoluta, cal fer una tècnica de deep freeze amb una funció que ho recòrrega tot. \n",
    "\n",
    "No obstant, sempre és millor evitar dirèctament les assignacions dirèctes i copiar els objectes o arrays. La copia també té els seus propis problemes. Mirem aquest exemple:"
   ]
  },
  {
   "cell_type": "code",
   "execution_count": 6,
   "id": "a4eb4ce0",
   "metadata": {},
   "outputs": [
    {
     "name": "stdout",
     "output_type": "stream",
     "text": [
      "[ 1, 2, 3, 4, { a: 'a', b: 'C' } ]\n"
     ]
    }
   ],
   "source": [
    "(()=>{\n",
    "const a = [1,2,3,4,{a:'a',b:'b'}];\n",
    "const b = [...a];  // còpia amb spread operator\n",
    "b[0] = 1000;\n",
    "b[4].b = 'C';\n",
    "console.log(a)\n",
    "})(); "
   ]
  },
  {
   "cell_type": "markdown",
   "id": "2bffae16",
   "metadata": {},
   "source": [
    "En l'exemple anterior, els números són copiats per valor, però l'objecte és copiat per referència. Per axiò pot mutar en l'array original. En les versions de 2021 de JS ja existeix structuredClone() que permet una còpia profunda:"
   ]
  },
  {
   "cell_type": "code",
   "execution_count": 7,
   "id": "c0510733",
   "metadata": {},
   "outputs": [
    {
     "ename": "ReferenceError",
     "evalue": "structuredClone is not defined",
     "output_type": "error",
     "traceback": [
      "evalmachine.<anonymous>:3",
      "const b = structuredClone(a) // còpia amb structuredClone (pot no funcionar en aquesta versió de node)",
      "          ^",
      "",
      "ReferenceError: structuredClone is not defined",
      "    at evalmachine.<anonymous>:3:11",
      "    at evalmachine.<anonymous>:7:3",
      "    at Script.runInThisContext (vm.js:134:12)",
      "    at Object.runInThisContext (vm.js:310:38)",
      "    at run ([eval]:1054:15)",
      "    at onRunRequest ([eval]:888:18)",
      "    at onMessage ([eval]:848:13)",
      "    at process.emit (events.js:400:28)",
      "    at emit (internal/child_process.js:912:12)",
      "    at processTicksAndRejections (internal/process/task_queues.js:83:21)"
     ]
    }
   ],
   "source": [
    "(()=>{\n",
    "const a = [1,2,3,4,{a:'a',b:'b'}];\n",
    "const b = structuredClone(a) // còpia amb structuredClone (pot no funcionar en aquesta versió de node)\n",
    "b[0] = 1000;\n",
    "b[4].b = 'C';\n",
    "console.log(a)\n",
    "})(); "
   ]
  },
  {
   "cell_type": "markdown",
   "id": "b5740c4f",
   "metadata": {},
   "source": [
    "Cal dir que el Strings, que són un tipus especial d'objectes i tenen en algunes coses un comportament com un Array, són immutables. Mirem l'exemple:"
   ]
  },
  {
   "cell_type": "code",
   "execution_count": 8,
   "id": "33866079",
   "metadata": {},
   "outputs": [
    {
     "name": "stdout",
     "output_type": "stream",
     "text": [
      "abcd abcd\n"
     ]
    }
   ],
   "source": [
    "(()=>{\n",
    "let a =  \"abcd\";\n",
    "let b = a;\n",
    "b[2] = 'g';\n",
    "console.log(a,b)\n",
    "})(); "
   ]
  },
  {
   "cell_type": "markdown",
   "id": "df5320dd",
   "metadata": {},
   "source": [
    "En l'exemple anterior, si vulguerem canviar la lletra, deuriem fer coses com el següent:"
   ]
  },
  {
   "cell_type": "code",
   "execution_count": 9,
   "id": "f5f538c0",
   "metadata": {},
   "outputs": [
    {
     "name": "stdout",
     "output_type": "stream",
     "text": [
      "abgd\n"
     ]
    }
   ],
   "source": [
    "(()=>{\n",
    "let a =  \"abcd\";\n",
    "a = a.split('');\n",
    "a[2] = 'g';\n",
    "a = a.join('');\n",
    "console.log(a);\n",
    "})(); "
   ]
  },
  {
   "cell_type": "markdown",
   "id": "146ee25f",
   "metadata": {},
   "source": [
    "***Resum de immutabilitat:***\n",
    "\n",
    "* Cal no utilitzar variables sempre que es puga, les constants també cal llimitar-les.\n",
    "* Cal no utilitzar variables globals. Si es necessiten, buscarem una manera de centralitzar-les i mantindre la immutabilitat. (Redux, per exemple).\n",
    "* En cas d'utilitzar const en Objecte o Arrays, cal recordar que no estan, per defecte, congelats.\n",
    "* Es pot congelar en freeze o seal, però no ho fa de manera profunda.\n",
    "* Sempre és millor copiar que assignar un objecte. \n",
    " * Amb [...array] o {...objecte} sol funcionar si no hi ha sub-objectes. \n",
    " * Ara tenim structuredClone() per a una clonació profunda. \n",
    " * Sempre és millor retornar una copia modificada que modificar l'original (també lleves els efectes col·laterals)\n",
    "* Cal evitar mètodes d'arrays com  copyWithin, fill, pop, push, reverse, shift, sort, splice, unshift, ja que provoquen mutacions. En cas de necessitar utilitzar-los, deguem fer una còpia de l'original. \n",
    " \n",
    "L'immutabilitat és un dels pricipis fonamentals de la programació funcional. Pot semblar una auto-llimitació massa important. Quan ens ensenyen a programar, la manera més fàcil es un programa que va canviar l'estat del programa en cada instrucció. El concepte de l'estat del programa es refereix a les variables i altres estructures de dades. Podem crear noves variables o modificar les existents (per això es diuen variables). Però cóm vaig a programar sense variables? Cóm va a passar res si no modifique el valor de alguna cosa?. Si complim totalment les premises de la programació funcional no cal fer quasi cap variable, inclús es pot fer sense fer moltes constants. \n",
    "\n",
    "La programació funcional no s'ha d'entendre com un dogma que ens complique la vida. Si necessitem fer variables les fem. Però conforme es programa tenin en compte aquests principis, ens donem compte de que no calien tantes variables. Si programem pensant en l'immutabilitat, farem unes poques constants globals i molt poques variables dins de funcions menudes. "
   ]
  },
  {
   "cell_type": "markdown",
   "id": "2aae42c2",
   "metadata": {},
   "source": [
    "### Purificació de funcions\n",
    "\n",
    "En la programació funcional, totes les funcions han de complir uns requisits:\n",
    "* Han de tenir pocs arguments.\n",
    "* Sols faran una cosa.\n",
    "* Seran pures i deterministes\n",
    "* KISS\n",
    "* DRY\n",
    "* No tindran efectes col·laterals \n",
    "* Treballaran sobre dades inmutables i no provocaran canvis d’estat"
   ]
  },
  {
   "cell_type": "markdown",
   "id": "491d257b",
   "metadata": {},
   "source": [
    "Anem a estudiar la purificació de funcions amb una funció totalment impura i anirem solucionant els seus problemes:"
   ]
  },
  {
   "cell_type": "code",
   "execution_count": 10,
   "id": "fc2ba776",
   "metadata": {},
   "outputs": [
    {
     "name": "stdout",
     "output_type": "stream",
     "text": [
      "{\n",
      "  array: [\n",
      "    2.4850272022815845,\n",
      "    4.970054404563169,\n",
      "    7.455081606844754,\n",
      "    9.940108809126338,\n",
      "    12.425136011407922\n",
      "  ],\n",
      "  arrayMult: [ 10, 20, 30, 40, 50 ],\n",
      "  arrayRand: [\n",
      "    2.4850272022815845,\n",
      "    4.970054404563169,\n",
      "    7.455081606844754,\n",
      "    9.940108809126338,\n",
      "    12.425136011407922\n",
      "  ]\n",
      "}\n"
     ]
    }
   ],
   "source": [
    "(()=>{\n",
    "\n",
    "    let n = 10;\n",
    "    let array = [1,2,3,4,5];\n",
    "    let arrayMult = [];\n",
    "    let arrayRand = [];\n",
    "    let i = 0;\n",
    "    // Funció que crea un array amb tots els elements d'un altre multiplicats per 10 \n",
    "    // i un altre amb els elements multiplicats per 10 i un número aleatori\n",
    "    function multiArray(){\n",
    "        let ran = Math.random();\n",
    "        for(i=0; i<array.length; i++){\n",
    "            array[i]*=n;\n",
    "            arrayMult[i] = array[i];\n",
    "            array[i]*=ran;\n",
    "            arrayRand[i] = array[i];\n",
    "        }\n",
    "    }\n",
    "    \n",
    "    multiArray();\n",
    "    console.log({array,arrayMult,arrayRand})\n",
    "})(); "
   ]
  },
  {
   "cell_type": "markdown",
   "id": "22981bb9",
   "metadata": {},
   "source": [
    "És difícil fer una funció més impura. Anem a analitzar perquè és impura:\n",
    "* Fà més d'una cosa (modifica dos arrays teòricament independents)\n",
    "* No és determinista, ja que utilitza un número aleatori.\n",
    "* No és DRY, ja que aplica dues vegades la multiplicació.\n",
    "* Té molts efectes col·laterals, ja que muta arrays globals. És més, muta l'array original.\n",
    "* Com a conseqüència, no treballa sobre dades immutables i provoca canvis d'estat. L'array original és diferent quan acaba la funció. \n",
    "\n",
    "Anem a anar arreglant aquesta funció poc a poc. El primer és llevar l'efecte col·lateral que més ens incomoda: el de l'array original:\n"
   ]
  },
  {
   "cell_type": "code",
   "execution_count": 11,
   "id": "8c6a8883",
   "metadata": {},
   "outputs": [
    {
     "name": "stdout",
     "output_type": "stream",
     "text": [
      "{\n",
      "  array: [ 1, 2, 3, 4, 5 ],\n",
      "  arrayMult: [ 10, 20, 30, 40, 50 ],\n",
      "  arrayRand: [\n",
      "    1.5985621209795542,\n",
      "    3.1971242419591084,\n",
      "    4.795686362938662,\n",
      "    6.394248483918217,\n",
      "    7.992810604897771\n",
      "  ]\n",
      "}\n"
     ]
    }
   ],
   "source": [
    "(()=>{\n",
    "    let n = 10;\n",
    "    let array = [1,2,3,4,5];\n",
    "    let arrayMult = [];\n",
    "    let arrayRand = [];\n",
    "    let i = 0;\n",
    "    // Funció que crea un array amb tots els elements d'un altre multiplicats per 10 \n",
    "    // i un altre amb els elements multiplicats per 10 i un número aleatori\n",
    "    function multiArray(){\n",
    "        let ran = Math.random();\n",
    "        for(i=0; i<array.length; i++){\n",
    "            arrayMult[i] = array[i] * n;\n",
    "            arrayRand[i] = arrayMult[i] * ran;\n",
    "        }\n",
    "    }\n",
    "    \n",
    "    multiArray();\n",
    "    console.log({array,arrayMult,arrayRand})\n",
    "})(); "
   ]
  },
  {
   "cell_type": "markdown",
   "id": "5db052ab",
   "metadata": {},
   "source": [
    "Ara L'altre efecte col·lateral que és utilitzar variables globals:"
   ]
  },
  {
   "cell_type": "code",
   "execution_count": 12,
   "id": "7ddea6ce",
   "metadata": {},
   "outputs": [
    {
     "name": "stdout",
     "output_type": "stream",
     "text": [
      "{\n",
      "  array: [ 1, 2, 3, 4, 5 ],\n",
      "  arrayMult: [ 10, 20, 30, 40, 50 ],\n",
      "  arrayRand: [\n",
      "    8.797419025927534,\n",
      "    17.594838051855067,\n",
      "    26.3922570777826,\n",
      "    35.189676103710134,\n",
      "    43.987095129637666\n",
      "  ]\n",
      "}\n"
     ]
    }
   ],
   "source": [
    "(()=>{\n",
    "    let n = 10;\n",
    "    let array = [1,2,3,4,5];\n",
    "    // Funció que crea un array amb tots els elements d'un altre multiplicats per 10 \n",
    "    // i un altre amb els elements multiplicats per 10 i un número aleatori\n",
    "    function multiArray(array,n){\n",
    "        let ran = Math.random();\n",
    "        let arrayMult = [];\n",
    "        let arrayRand = [];\n",
    "        for(let i=0; i<array.length; i++){\n",
    "            arrayMult[i] = array[i] * n;\n",
    "            arrayRand[i] = arrayMult[i] * ran;\n",
    "        }\n",
    "        return {arrayMult,arrayRand}  // Retorne un objecte amb destructuring\n",
    "    }  \n",
    "    \n",
    "    let {arrayMult,arrayRand} = multiArray(array,n);\n",
    "    console.log({array,arrayMult,arrayRand})\n",
    "})(); "
   ]
  },
  {
   "cell_type": "markdown",
   "id": "0623216c",
   "metadata": {},
   "source": [
    "Si una funció necessita multiplicar per un número aleatori, mai serà programació funcional pura pel determinisme. No obstant, l'indeterminisme s'ha de mantindre controlat i aïllat. Podem fer una funció determinista per multiplicar, però passar-li un número aleatori: "
   ]
  },
  {
   "cell_type": "code",
   "execution_count": 13,
   "id": "2d68d483",
   "metadata": {},
   "outputs": [
    {
     "name": "stdout",
     "output_type": "stream",
     "text": [
      "{\n",
      "  array: [ 1, 2, 3, 4, 5 ],\n",
      "  arrayMult: [ 10, 20, 30, 40, 50 ],\n",
      "  arrayRand: [\n",
      "    5.782793005072171,\n",
      "    11.565586010144342,\n",
      "    17.348379015216512,\n",
      "    23.131172020288684,\n",
      "    28.913965025360856\n",
      "  ]\n",
      "}\n"
     ]
    }
   ],
   "source": [
    "(()=>{\n",
    "    let n = 10;\n",
    "    let array = [1,2,3,4,5];\n",
    "    // Funció que crea un array amb tots els elements d'un altre multiplicats per 10 \n",
    "    // i un altre amb els elements multiplicats per 10 i un número aleatori\n",
    "    function multiArray(array,n,n2){\n",
    "        let arrayMult = [];\n",
    "        let arrayRand = [];\n",
    "        for(let i=0; i<array.length; i++){\n",
    "            arrayMult[i] = array[i] * n;\n",
    "            arrayRand[i] = arrayMult[i] * n2;\n",
    "        }\n",
    "        return {arrayMult,arrayRand}  // Retorne un objecte amb destructuring\n",
    "    }  \n",
    "    \n",
    "    let {arrayMult,arrayRand} = multiArray(array,n,Math.random());\n",
    "    console.log({array,arrayMult,arrayRand})\n",
    "})(); "
   ]
  },
  {
   "cell_type": "markdown",
   "id": "b5542501",
   "metadata": {},
   "source": [
    "Encara tenim un problema en el principi DRY. Anem a simplificar la funció i a cridar-la les vegades que faça falta:"
   ]
  },
  {
   "cell_type": "code",
   "execution_count": 14,
   "id": "c7124355",
   "metadata": {},
   "outputs": [
    {
     "name": "stdout",
     "output_type": "stream",
     "text": [
      "{\n",
      "  array: [ 1, 2, 3, 4, 5 ],\n",
      "  arrayMult: [ 10, 20, 30, 40, 50 ],\n",
      "  arrayRand: [\n",
      "    7.708655225207261,\n",
      "    15.417310450414522,\n",
      "    23.125965675621785,\n",
      "    30.834620900829044,\n",
      "    38.54327612603631\n",
      "  ]\n",
      "}\n"
     ]
    }
   ],
   "source": [
    "(()=>{\n",
    "    let n = 10;\n",
    "    let array = [1,2,3,4,5];\n",
    "\n",
    "    function multiArray(array,n){\n",
    "        let arrayMult = [];\n",
    "        for(let i=0; i<array.length; i++){\n",
    "            arrayMult[i] = array[i] * n;\n",
    "        }\n",
    "        return arrayMult;\n",
    "    }  \n",
    "    \n",
    "    let arrayMult = multiArray(array,n);\n",
    "    let arrayRand = multiArray(arrayMult,Math.random());\n",
    "    console.log({array,arrayMult,arrayRand})\n",
    "})(); "
   ]
  },
  {
   "cell_type": "markdown",
   "id": "2d5b4993",
   "metadata": {},
   "source": [
    "Al no mutar les variable ni tindre efectes col·laterals, en aquest cas no cal aplicar cap tècnica especial de immutabilitat. Però, per precaució si programem més, cal fer constants: "
   ]
  },
  {
   "cell_type": "code",
   "execution_count": 15,
   "id": "66be896b",
   "metadata": {},
   "outputs": [
    {
     "name": "stdout",
     "output_type": "stream",
     "text": [
      "{\n",
      "  array: [ 1, 2, 3, 4, 5 ],\n",
      "  arrayMult: [ 10, 20, 30, 40, 50 ],\n",
      "  arrayRand: [\n",
      "    9.215471421917286,\n",
      "    18.430942843834572,\n",
      "    27.646414265751854,\n",
      "    36.861885687669144,\n",
      "    46.07735710958642\n",
      "  ]\n",
      "}\n"
     ]
    }
   ],
   "source": [
    "(()=>{\n",
    "    const n = 10;\n",
    "    const array = [1,2,3,4,5];\n",
    "\n",
    "    function multiArray(array,n){\n",
    "        let arrayMult = [];\n",
    "        for(let i=0; i<array.length; i++){\n",
    "            arrayMult[i] = array[i] * n;\n",
    "        }\n",
    "        return arrayMult;\n",
    "    }  \n",
    "    \n",
    "    const arrayMult = multiArray(array,n);\n",
    "    const arrayRand = multiArray(arrayMult,Math.random());\n",
    "    console.log({array,arrayMult,arrayRand})\n",
    "})(); "
   ]
  },
  {
   "cell_type": "markdown",
   "id": "a5f52068",
   "metadata": {},
   "source": [
    "Ara la funció és pura de cara a l'exterior, però encara no és totalment pura internament, ja que el for muta la variable i i arrayMult.\n",
    "Anem a fer molts canvis per evitar la declaració de moltes variables i constants innecesàries en aquest codi:"
   ]
  },
  {
   "cell_type": "code",
   "execution_count": 16,
   "id": "5a1bb574",
   "metadata": {},
   "outputs": [
    {
     "name": "stdout",
     "output_type": "stream",
     "text": [
      "[ 1, 2, 3, 4, 5 ] [ 10, 20, 30, 40, 50 ] [\n",
      "  7.874753359540046,\n",
      "  15.749506719080092,\n",
      "  23.624260078620136,\n",
      "  31.499013438160183,\n",
      "  39.37376679770023\n",
      "]\n"
     ]
    }
   ],
   "source": [
    "(()=>{\n",
    "    const n = 10;\n",
    "    const array = [1,2,3,4,5];\n",
    "\n",
    "    function multiArray(array,n){\n",
    "        return array.map(numero=> numero * n)\n",
    "    }  \n",
    "    \n",
    "    const arrayMult = multiArray(array,n);\n",
    "    console.log(array, arrayMult, multiArray(arrayMult,Math.random()) )\n",
    "})(); "
   ]
  },
  {
   "cell_type": "markdown",
   "id": "b70ace24",
   "metadata": {},
   "source": [
    "Hi ha un parell de conceptes més respecte a les funcions pures que ens poden ajudar a entendre si una funció és pura o no:\n",
    "* Idempotència: Una funció pot ser cridada les vegades que siga de forma consecutiva i sempre donarà el mateix resultat per als mateixos arguments.\n",
    "* Transparència Referencial: Una funció pot ser substituida pel seu valor d'eixida i el programa funcionará igual.\n",
    "\n",
    "Un programador estructurat es pot dir que si pot ser subtituida pel seu valor, serà més fàcil ficar dirèctament el valor. Això és fals per dos raons: La primera és que en la funció podem canviar els argument. La segona és menys evident, però molt important: El nom de la funció ens diu qué càlcul es fa, un valor literal no aporta informació a qui llig el programa i pot pensar que és un número arbitrari. "
   ]
  },
  {
   "cell_type": "markdown",
   "id": "49e903f6",
   "metadata": {},
   "source": [
    "### Funcions d'ordre superior\n",
    "\n",
    "* Accepten o retornen funcions\n",
    "* Map, Filter i Reduce són les més importants\n",
    "* Podem fer les nostres funcions d’ordre superior.\n",
    "* Altres no totalment funcionals:\n",
    " * forEach, some, every, find, findIndex, flatMap, reduceRight\n",
    "\n",
    "\n",
    "Cal tindre algunes consideracions: \n",
    "* Map no és igual a fer un for amb un array auxiliar i un return d'eixe array. Per a quasi tot és el mateix, però no garantitza que s'executa seqüencialment en el mateix ordre. \n",
    "* Map no s'ha d'utilitzar mai amb funcions que tinguen efectes col·laterals (variables globals, DOM, fetch...). A no ser que s'utilitze per crear un array de promeses o un array d'elements del DOM, per exemple.\n",
    "* Si volem efectes col·laterals (No recomanables) utilitzarem forEach.\n",
    "* Si no necessitem que retorne un array modificat, utilitzarem forEach o reduce. \n",
    "* Si volem fer un await en cada iteració MAI utilitzarem map, ja que és una funció optimitzada que llança totes les promeses. forEach serà provablement la millor opció. Es pot utilitzar reduce també.\n",
    "* Utilitzarem funcions fletxa per defecte per mantindre el \"this\" de fora. (No obstant, no es recomana utilitzar this en funcions pures)\n",
    "\n",
    "Exemples típics d'algunes funcions d'ordre superior:"
   ]
  },
  {
   "cell_type": "code",
   "execution_count": 17,
   "id": "c4e97a97",
   "metadata": {},
   "outputs": [
    {
     "name": "stdout",
     "output_type": "stream",
     "text": [
      "1\n",
      "2\n",
      "3\n",
      "4\n",
      "[ 1, 4, 9, 16 ]\n",
      "[ 3, 4 ]\n",
      "10\n",
      "true\n",
      "false\n",
      "3\n",
      "2\n",
      "[\n",
      "  1, 1, 2, 2,\n",
      "  3, 3, 4, 4\n",
      "]\n"
     ]
    }
   ],
   "source": [
    "(()=>{\n",
    "const A = [1,2,3,4];\n",
    "\n",
    "// Llista els elements: forEach, ja que no retornem res:\n",
    "A.forEach(a => console.log(a));\n",
    "\n",
    "// Quadrat del els elements: map perquè retornem un array\n",
    "console.log( A.map(a=> a*a)  );\n",
    "\n",
    "// Treure els majors de 2: Filter\n",
    "console.log( A.filter(a=> a>2)  );\n",
    "    \n",
    "// Sumar els elements: reduce per evitar la típica variable acumuladora:\n",
    "console.log( A.reduce((a,b)=> a+b)  );\n",
    "\n",
    "// Saber si alguns són menors de 3: some()\n",
    "console.log( A.some(a=> a<3)  );\n",
    "    \n",
    "// Saber si tots són menors de 3: every()\n",
    "console.log( A.every(a=> a<3)  );\n",
    "    \n",
    "// Trobar el primer element major de 2: find()\n",
    "console.log( A.find(a=> a>2)  );\n",
    "    \n",
    "// Trobar l'índex de primer element major de 2: find()\n",
    "console.log( A.findIndex(a=> a>2)  );    \n",
    "    \n",
    "// Duplicar cada element: flatMap, ja que necessitem un array per duplicar i després aplanar:\n",
    "console.log( A.flatMap(a=> [a,a])  );      \n",
    "    \n",
    "    \n",
    "})(); "
   ]
  },
  {
   "cell_type": "markdown",
   "id": "803db9af",
   "metadata": {},
   "source": [
    "### Currying\n",
    "\n",
    "* Currificar consisteix a convertir una funció de múltiples variables en una seqüència de funcions unaries\n",
    "* Llibreries com Lodash o Ramda incorporen una funció per currificar altres funcions. Les funcions currificades poden ser cridades de les dues maneres.\n",
    "* Es poden aprofitar les closures.\n",
    "* Permet reaprofitar millor.\n",
    "* Manté millor les funcions pures.\n",
    "\n",
    "Exemple:\n"
   ]
  },
  {
   "cell_type": "code",
   "execution_count": 18,
   "id": "0f7f57fb",
   "metadata": {},
   "outputs": [
    {
     "name": "stdout",
     "output_type": "stream",
     "text": [
      "Dist currificades: [ 5.830951894845301, 5.656854249492381, 8.246211251235321 ]\n"
     ]
    }
   ],
   "source": [
    "(()=>{\n",
    "    \n",
    "    /// Array de jugadors amb la seua posició\n",
    "const players = [{ name: \"Alice\", color: \"aliceblue\", position: { x: 3, y: 5 },},\n",
    "                 { name: \"Benji\", color: \"goldenrod\", position: { x: -4, y: -4 },},\n",
    "  { name: \"Clarissa\",color: \"firebrick\", position: { x: -2, y: 8 }, },];\n",
    "// Posició de la bandera\n",
    "const flag = { x: 0, y: 0 };\n",
    "\n",
    "const distancewithCurrying =\n",
    " (start) => (end) => Math.sqrt(Math.pow(end.x - start.x, 2) + Math.pow(end.y - start.y, 2));\n",
    "\n",
    "const distanceFromFlag = distancewithCurrying(flag);\n",
    "const curriedDistances = players.map(player => player.position).map(distanceFromFlag)\n",
    "console.log(\"Dist currificades:\", curriedDistances);\n",
    "    \n",
    "})(); "
   ]
  },
  {
   "cell_type": "markdown",
   "id": "e6b4061a",
   "metadata": {},
   "source": [
    "Un altre exemple:"
   ]
  },
  {
   "cell_type": "code",
   "execution_count": 19,
   "id": "73b84dab",
   "metadata": {},
   "outputs": [
    {
     "name": "stdout",
     "output_type": "stream",
     "text": [
      "[ 14, 26, 24, 108 ]\n",
      "false true false true\n",
      "[\n",
      "  11, 14, 26, 9,\n",
      "  41, 24, 65\n",
      "]\n",
      "[ 26, 24 ]\n"
     ]
    }
   ],
   "source": [
    "(()=>{\n",
    "const ages = [11, 14, 26, 9, 41, 24, 65, 67, 108];\n",
    "// Funció tradicional de si és imparell\n",
    "\n",
    "const isEven = (num) => (num % 2 === 0 ? true : false);\n",
    "\n",
    "console.log(ages.filter(isEven));\n",
    "\n",
    "/* El següent exemple fa uns filtres amb currying diferents */\n",
    "const isEqualTo = (comparator) => (value) => value === comparator;\n",
    "const isGreaterThan = (comparator) => (value) => value > comparator;\n",
    "\n",
    "/* Amb ajuda de les funcions anteriors, creem funcions que comproven coses de manera més específica\n",
    "El primer treu una funció per saber si és igual a 7\n",
    "El segon diu si té la majoria d'edat  */\n",
    "const isSeven = isEqualTo(7);\n",
    "const isOfLegalMajority = isGreaterThan(18);\n",
    "\n",
    "console.log(isSeven(5),isSeven(7),isOfLegalMajority(10),isOfLegalMajority(20));\n",
    "\n",
    "/* Fem una altra funció per treure el contrari i l'aprofitem amb ajuda de isGreaterThan per treure un altre filtre */\n",
    "const isNot = (value) => !value;\n",
    "const isLessThanOrEqualTo = (comparator) => (value) =>  isNot(isGreaterThan(comparator)(value));\n",
    "\n",
    "// Ara tenim una funció que aprofita les anteriors per saber si algú és menor de 65\n",
    "const isTooYoungToRetire = isLessThanOrEqualTo(65);\n",
    "\n",
    "console.log(ages.filter(isTooYoungToRetire));\n",
    "\n",
    "/* Amb aquestes funcions podem fer coses més complexes: */\n",
    "\n",
    "const isInRange = (minComparator) => (maxComparator) => (value) => isGreaterThan(minComparator)(value) &&\n",
    "  isLessThanOrEqualTo(maxComparator)(value);\n",
    "\n",
    "const isTwentySomething = isInRange(19)(30);\n",
    "\n",
    "console.log(ages.filter(isTwentySomething));\n",
    "    \n",
    "        \n",
    "})(); "
   ]
  },
  {
   "cell_type": "markdown",
   "id": "862109f9",
   "metadata": {},
   "source": [
    "### Composició"
   ]
  },
  {
   "cell_type": "markdown",
   "id": "8899203e",
   "metadata": {},
   "source": [
    "### Exemple de composició\n",
    "\n",
    "Prenguem un exemple trivial, invertir un String. Els passos són bastant fàcils de seguir:\n",
    "\n",
    "* Convertir la cadena en un array de lletres,\n",
    "* Invertir l'array de lletres,\n",
    "* Tornar a unir l'array invertit en una cadena,\n",
    "* Retorna la string invertida (transformada).\n",
    "\n",
    "Fàcil de seguir i fàcil d'escriure:"
   ]
  },
  {
   "cell_type": "code",
   "execution_count": 20,
   "id": "3433a462",
   "metadata": {},
   "outputs": [
    {
     "name": "stdout",
     "output_type": "stream",
     "text": [
      "efdcba\n"
     ]
    }
   ],
   "source": [
    "(()=>{\n",
    "const reverseString = function reverseString(string){\n",
    "  const stringArray = string.split('');\n",
    "  const reversedStringArray = stringArray.reverse();\n",
    "  const joinedReversedStringArray = reversedStringArray.join('');\n",
    "\n",
    "  return joinedReversedStringArray;\n",
    "}\n",
    "\n",
    "console.log(reverseString(\"abcdfe\"))\n",
    "})(); "
   ]
  },
  {
   "cell_type": "markdown",
   "id": "f6ae6908",
   "metadata": {},
   "source": [
    "Es tracta de programació funcional? Podem dir que sí, ja que és una funció que no muta la string original, rep un paràmetre i retorna un valor. \n",
    "\n",
    "No obstant és ineficient, ja que estem declarant variables en mig. Ja que tots retornen una valor utilitzable per la següent funció, poden fer **methode chaining**:"
   ]
  },
  {
   "cell_type": "code",
   "execution_count": 21,
   "id": "48519db4",
   "metadata": {},
   "outputs": [
    {
     "name": "stdout",
     "output_type": "stream",
     "text": [
      "efdcba\n"
     ]
    }
   ],
   "source": [
    "(()=>{\n",
    "const reverseString = function reverseString(string){\n",
    "    return string.split('').reverse().join('');\n",
    "}\n",
    "\n",
    "console.log(reverseString(\"abcdfe\"))\n",
    "})(); "
   ]
  },
  {
   "cell_type": "markdown",
   "id": "8d021bc6",
   "metadata": {},
   "source": [
    "Aquesta solució és suficientment bona per a molts casos. No obstant, és complicat reorganitzar les funcions. Quan anem a fer moltes vegades aquestes transformacions, cal buscar una altra manera. \n",
    "\n",
    "***\n",
    "Podem veure un exemple en la llibreria Rxjs. En versions antigues utilitzen methode chaining, però en les últimes han passat a fer composició gràcies a la funció pipe().\n",
    "***\n",
    "\n",
    "La composició es basa en clavar una funció com a resultat per a una altra. Una manera fàcil, però incòmoda de fer això és:"
   ]
  },
  {
   "cell_type": "code",
   "execution_count": 22,
   "id": "8e6ee4d3",
   "metadata": {},
   "outputs": [
    {
     "name": "stdout",
     "output_type": "stream",
     "text": [
      "efdcba\n"
     ]
    }
   ],
   "source": [
    "(()=>{\n",
    "// Cal convertir les funcions:\n",
    "const split =  (str) => str.split('')\n",
    "const reverse = (arr) => arr.reverse();\n",
    "const join = (arr) => arr.join('')\n",
    "    \n",
    "const reverseString = function reverseString(str){\n",
    "    return join(reverse(split(str)))\n",
    "}\n",
    "\n",
    "console.log(reverseString(\"abcdfe\"))\n",
    "})(); "
   ]
  },
  {
   "cell_type": "markdown",
   "id": "67b44c93",
   "metadata": {},
   "source": [
    "El codi pot quedar molt difícil de llegir, similar al conegut callback hell. "
   ]
  },
  {
   "cell_type": "markdown",
   "id": "2eb97bbf",
   "metadata": {},
   "source": [
    "Ara ve la part interesant. En Javascript ja sabem que les funcions són un tipus especial d'objecte. Per tant, podem passar funcions com a paràmetre d'altres funcions. En la composició és el que farem. Podem fer un array de funcions, anar recorreguent l'array i recollint el resultat per passar-ho a la següent funció. \n",
    "\n",
    "Vegem l'exemple anterior fet d'aquesta manera. No és una solució genèrica, però ja pareix més composició:"
   ]
  },
  {
   "cell_type": "code",
   "execution_count": 23,
   "id": "e75719c3",
   "metadata": {},
   "outputs": [
    {
     "name": "stdout",
     "output_type": "stream",
     "text": [
      "efdcba\n"
     ]
    }
   ],
   "source": [
    "(()=>{\n",
    "// Cal convertir les funcions:\n",
    "const split =  (str) => str.split('')\n",
    "const reverse = (arr) => arr.reverse();\n",
    "const join = (arr) => arr.join('')\n",
    "    \n",
    "const reverseString = function reverseString(string){\n",
    "    const functions = [ split, reverse, join ];\n",
    "    let str = string;\n",
    "    functions.forEach(f=>{\n",
    "        str = f(str);\n",
    "    });\n",
    "    return str;\n",
    "}\n",
    "\n",
    "console.log(reverseString(\"abcdfe\"))\n",
    "})(); "
   ]
  },
  {
   "cell_type": "markdown",
   "id": "30fc9421",
   "metadata": {},
   "source": [
    "Inclús podem utilitzar reduce per escriure menys codi:"
   ]
  },
  {
   "cell_type": "code",
   "execution_count": 24,
   "id": "46826d4e",
   "metadata": {},
   "outputs": [
    {
     "name": "stdout",
     "output_type": "stream",
     "text": [
      "efdcba\n"
     ]
    }
   ],
   "source": [
    "(()=>{\n",
    "// Cal convertir les funcions:\n",
    "const split =  (str) => str.split('')\n",
    "const reverse = (arr) => arr.reverse();\n",
    "const join = (arr) => arr.join('')\n",
    "    \n",
    "const reverseString = function reverseString(string){\n",
    "    const functions = [ split, reverse, join ];\n",
    "    return functions.reduce((a,b) => b(a) ,string)\n",
    "}\n",
    "\n",
    "console.log(reverseString(\"abcdfe\"))\n",
    "})(); "
   ]
  },
  {
   "cell_type": "markdown",
   "id": "4f590593",
   "metadata": {},
   "source": [
    "Ja que estem, anem a fer aquesta funció més genèrica, que accepte les instruccions i el string:"
   ]
  },
  {
   "cell_type": "code",
   "execution_count": 25,
   "id": "abdd3bd3",
   "metadata": {},
   "outputs": [
    {
     "name": "stdout",
     "output_type": "stream",
     "text": [
      "fedcba\n"
     ]
    }
   ],
   "source": [
    "(()=>{\n",
    "// Cal convertir les funcions:\n",
    "const split =  (str) => str.split('')\n",
    "const reverse = (arr) => arr.reverse();\n",
    "const join = (arr) => arr.join('')\n",
    "\n",
    "const pipe = (...fns) => (x) => fns.reduce( (acc, fn)=>fn(acc), x)\n",
    "\n",
    "console.log(pipe(split,reverse,join)('abcdef'))\n",
    "})(); "
   ]
  },
  {
   "cell_type": "markdown",
   "id": "94609ad7",
   "metadata": {},
   "source": [
    "Inclús si es va a fer en totes les strings, podem afegir-la a prototype:"
   ]
  },
  {
   "cell_type": "code",
   "execution_count": 26,
   "id": "504eb3e0",
   "metadata": {},
   "outputs": [
    {
     "name": "stdout",
     "output_type": "stream",
     "text": [
      "fedcba\n"
     ]
    }
   ],
   "source": [
    "(()=>{\n",
    "// Cal convertir les funcions:\n",
    "const split =  (str) => str.split('')\n",
    "const reverse = (arr) => arr.reverse();\n",
    "const join = (arr) => arr.join('')\n",
    "\n",
    "const pipe = (...fns) => function() { return fns.reduce( (acc, fn)=>fn(acc), this) };\n",
    "\n",
    "String.prototype.reverseString = pipe(split,reverse,join);\n",
    "\n",
    "console.log('abcdef'.reverseString())\n",
    "})(); "
   ]
  },
  {
   "cell_type": "markdown",
   "id": "88f2c4ff",
   "metadata": {},
   "source": [
    "Amb aquesta idea, es poden fer més combinacions utilitzant la funció pipe igualment:"
   ]
  },
  {
   "cell_type": "code",
   "execution_count": 27,
   "id": "9f5aacde",
   "metadata": {},
   "outputs": [
    {
     "name": "stdout",
     "output_type": "stream",
     "text": [
      "FEDCBA\n"
     ]
    }
   ],
   "source": [
    "(()=>{\n",
    "// Cal convertir les funcions:\n",
    "const split =  (str) => str.split('')\n",
    "const reverse = (arr) => arr.reverse();\n",
    "const join = (arr) => arr.join('')\n",
    "const upper = (str) => str.toUpperCase();\n",
    "\n",
    "const pipe = (...fns) => function() { return fns.reduce( (acc, fn)=>fn(acc), this) };\n",
    "\n",
    "String.prototype.reverseString = pipe(upper,split,reverse,join);\n",
    "\n",
    "console.log('abcdef'.reverseString())\n",
    "})(); "
   ]
  },
  {
   "cell_type": "markdown",
   "id": "e6870d4f",
   "metadata": {},
   "source": [
    "I en realitat estem refent la funció en cada exemple, però si la fiquem en un mòdul d'utilitats o definida abans, els codis queden molt fàcils de llegir:"
   ]
  },
  {
   "cell_type": "code",
   "execution_count": 28,
   "id": "1b087f7c",
   "metadata": {},
   "outputs": [],
   "source": [
    "const split =  (str) => str.split('')\n",
    "const reverse = (arr) => arr.reverse();\n",
    "const join = (arr) => arr.join('')\n",
    "const upper = (str) => str.toUpperCase();\n",
    "const pipe = (...fns) => function() { return fns.reduce( (acc, fn)=>fn(acc), this) };"
   ]
  },
  {
   "cell_type": "markdown",
   "id": "79363dd0",
   "metadata": {},
   "source": [
    "Ara el podem utilitzar sense problemes:"
   ]
  },
  {
   "cell_type": "code",
   "execution_count": 29,
   "id": "2d992b38",
   "metadata": {},
   "outputs": [
    {
     "name": "stdout",
     "output_type": "stream",
     "text": [
      "fedcba\n"
     ]
    }
   ],
   "source": [
    "(()=>{\n",
    "String.prototype.reverseString = pipe(split,reverse,join);\n",
    "console.log('abcdef'.reverseString())\n",
    "})(); "
   ]
  },
  {
   "cell_type": "markdown",
   "id": "90d3ef4f",
   "metadata": {},
   "source": [
    "En general, en la composició, les funcions s'han d'executar en ordre invers. Podem canviar el pipe per recorrer les funcions de dreta a esquerra:"
   ]
  },
  {
   "cell_type": "code",
   "execution_count": 30,
   "id": "0cbf7d5e",
   "metadata": {},
   "outputs": [],
   "source": [
    "const pipeCompose = (...fns) => function(x) { return fns.reduceRight( (acc, fn)=>fn(acc), x) };"
   ]
  },
  {
   "cell_type": "code",
   "execution_count": 31,
   "id": "8462aa1f",
   "metadata": {},
   "outputs": [
    {
     "name": "stdout",
     "output_type": "stream",
     "text": [
      "fedcba\n"
     ]
    }
   ],
   "source": [
    "console.log(pipeCompose(join,reverse,split)('abcdef'))"
   ]
  },
  {
   "cell_type": "markdown",
   "id": "31adec78",
   "metadata": {},
   "source": [
    "Arribats a aquest moment, queda la pregunta de perqué?. El codi original no era tan complicat. Ara tenim una funció currificada que accepta un array de funcions i les executa en reduce. Molt més complicat que encadenar funcions amb punts. \n",
    "És veritat que en l'exemple anterior no guanyen quasi res. No obstant, quan es fan llibreries o mòduls per a que altres puguen utilitzar-los. Quan estem programant programes realment complexs, aquesta diferència és notable. Anem a argumentar perquè:\n",
    "\n",
    "En primer lloc, és molt més fàcil de fer tests en les funcions. En els exemples estem utilitzant funcions pures que sols retornen el resultat d'un mètode de String o Array. Però si les funcions composades són nostres i més complexes, mai deixen de ser funcions pures independents i fàcilment testables. \n",
    "\n",
    "També podem afegir funcions intermitges que no aporten res o que facen efectes col·laterals. Anem a veure un exemple amb una funció que treu per consola l'estat actual de la pipe:"
   ]
  },
  {
   "cell_type": "code",
   "execution_count": 32,
   "id": "add23a84",
   "metadata": {},
   "outputs": [
    {
     "name": "stdout",
     "output_type": "stream",
     "text": [
      "Avans de reverse [ 'a', 'b', 'c', 'd', 'e', 'f' ]\n",
      "Abans de join [ 'f', 'e', 'd', 'c', 'b', 'a' ]\n",
      "fedcba\n"
     ]
    }
   ],
   "source": [
    "(()=>{\n",
    "    \n",
    "const trace = (message) => (value) => { console.log(message,value); return value; }\n",
    "console.log(pipeCompose(join,trace('Abans de join'),reverse,trace('Avans de reverse'),split)('abcdef'));\n",
    "    \n",
    "})(); \n"
   ]
  },
  {
   "cell_type": "markdown",
   "id": "18478a58",
   "metadata": {},
   "source": [
    "### Exemple complet:\n",
    "\n",
    "Anem a analitzar un programa fet amb programació estructurada i orientada a objectes i veure com podem transformar-lo en programació funcional. \n",
    "\n",
    "Aquest programa implementa una estructura de dades pila: "
   ]
  },
  {
   "cell_type": "code",
   "execution_count": 33,
   "id": "5c6c895f",
   "metadata": {},
   "outputs": [
    {
     "name": "stdout",
     "output_type": "stream",
     "text": [
      "[ 2, 2, 4, 3, 1 ]\n"
     ]
    }
   ],
   "source": [
    "(()=>{\n",
    "    \n",
    "class Pila {\n",
    "    head;\n",
    "    push(value) {\n",
    "        const node = {value , next: this.head};\n",
    "        this.head = node;\n",
    "    }\n",
    "    peak(){ return this.head.value; }\n",
    "    pop() { \n",
    "        const auxNode = this.head ?? {};\n",
    "        const value = auxNode.value;\n",
    "        this.head = auxNode.next;\n",
    "        return value;\n",
    "        }\n",
    "   [Symbol.iterator]=function*(){  // Fer que la classe siga iterator\n",
    "    let auxNode = this.head ?? {}\n",
    "    while(auxNode.value){\n",
    "      yield auxNode.value\n",
    "      auxNode = auxNode.next ?? {}\n",
    "    }\n",
    "  }\n",
    "}\n",
    "\n",
    "const stack = new Pila()\n",
    "\n",
    "stack.push(1)\n",
    "stack.push(2)\n",
    "stack.peak() // 2\n",
    "stack.pop() // 2\n",
    "stack.peak() // 1\n",
    "\n",
    "stack.push(3)\n",
    "stack.push(4)\n",
    "stack.push(2)\n",
    "stack.push(2)\n",
    "\n",
    "console.log([...stack])\n",
    "})(); "
   ]
  },
  {
   "cell_type": "markdown",
   "id": "b01c597a",
   "metadata": {},
   "source": [
    "El primer que podem fer és convertir la classe en Immutable. Així, quan es modifica, el que retorna és una còpia, però l'original es queda igual:"
   ]
  },
  {
   "cell_type": "code",
   "execution_count": 34,
   "id": "ac273d8e",
   "metadata": {},
   "outputs": [
    {
     "name": "stdout",
     "output_type": "stream",
     "text": [
      "[ 2, 2, 4, 3, 1 ]\n"
     ]
    }
   ],
   "source": [
    "(()=>{\n",
    "    \n",
    "class Pila {\n",
    "    head;\n",
    "    constructor(node) { this.head = node; } // necessitem constructor\n",
    "    push(value) {\n",
    "        const node = {value , next: this.head};\n",
    "        return new Pila(node);  // Creem una nova pila amb els mateixos elements\n",
    "    }\n",
    "    peak(){ return this.head.value; }\n",
    "    pop() { \n",
    "        const auxNode = this.head ?? {};\n",
    "        return new Pila(auxNode.next); // Creem una nova pila sense el primer node.\n",
    "        }\n",
    "   [Symbol.iterator]=function*(){  // Fer que la classe siga iterator\n",
    "    let auxNode = this.head ?? {}\n",
    "    while(auxNode.value){\n",
    "      yield auxNode.value\n",
    "      auxNode = auxNode.next ?? {}\n",
    "    }\n",
    "  }\n",
    "}\n",
    "\n",
    "let stack = new Pila()\n",
    "stack = stack.push(1)\n",
    "stack = stack.push(2)\n",
    "stack.peak() // 2\n",
    "stack = stack.pop()\n",
    "stack.peak() // 1\n",
    "\n",
    "stack = stack.push(3)\n",
    "stack = stack.push(4)\n",
    "stack = stack.push(2)\n",
    "stack = stack.push(2)\n",
    "\n",
    "console.log([...stack]) // [ 2, 2, 4, 3, 1 ]\n",
    "})(); "
   ]
  },
  {
   "cell_type": "markdown",
   "id": "bd3ae2d3",
   "metadata": {},
   "source": [
    "Perquè l'hem fet immutable? Pensem en que dues parts del programa utilitzen aquesta pila a partir d'un moment, qualsevol modificació no molestarà a l'altra part.\n",
    "\n",
    "Ara anem a eliminar les classes."
   ]
  },
  {
   "cell_type": "code",
   "execution_count": 35,
   "id": "633014e4",
   "metadata": {},
   "outputs": [
    {
     "name": "stdout",
     "output_type": "stream",
     "text": [
      "[ 2, 2, 4, 3, 1 ]\n"
     ]
    }
   ],
   "source": [
    "(()=>{\n",
    "    \n",
    "const Pila = {\n",
    "    push(head,value) {\n",
    "        const node = {value,next: head};\n",
    "        return node;\n",
    "    },\n",
    "    peak(head){ return head.value},\n",
    "    pop(head) {  \n",
    "        const auxNode = head ?? {};\n",
    "        return auxNode.next;\n",
    "    },\n",
    "    getIterator(head){\n",
    "    return (function*(){\n",
    "    let auxNode = head ?? {}\n",
    "      while(auxNode.value){\n",
    "        yield auxNode.value\n",
    "        auxNode = auxNode.next ?? {}\n",
    "      }\n",
    "    })()\n",
    "    }\n",
    "}\n",
    "            \n",
    "let stack;\n",
    "\n",
    "stack = Pila.push(stack, 1)\n",
    "stack = Pila.push(stack, 2)\n",
    "Pila.peak(stack) // 2\n",
    "stack = Pila.pop(stack)\n",
    "Pila.peak(stack) // 1\n",
    "\n",
    "stack = Pila.push(stack, 3)\n",
    "stack = Pila.push(stack, 4)\n",
    "stack = Pila.push(stack, 2)\n",
    "stack = Pila.push(stack, 2)\n",
    "\n",
    "console.log([...Pila.getIterator(stack)])\n",
    "        \n",
    "        })(); "
   ]
  },
  {
   "cell_type": "markdown",
   "id": "150edfe2",
   "metadata": {},
   "source": [
    "En compte de tindre una classe, fem un objecte amb utilitats per tractar en les piles. això simplifica algunes funcions, ja que no necessitem utilitzar el this.\n",
    "Ara totes les funcions necessiten que li passem la pila.\n",
    "\n",
    "Si ja no tenim classes, tampoc sembla necessari tindre l'objecte Pila. Anem a llevar-lo:"
   ]
  },
  {
   "cell_type": "code",
   "execution_count": 36,
   "id": "7f8697ec",
   "metadata": {},
   "outputs": [
    {
     "name": "stdout",
     "output_type": "stream",
     "text": [
      "[ 2, 2, 4, 3, 1 ]\n"
     ]
    }
   ],
   "source": [
    "(()=>{\n",
    "    \n",
    "\n",
    "    function push(head,value) {\n",
    "        const node = {value,next: head};\n",
    "        return node;\n",
    "    }\n",
    "    \n",
    "    function peak(head){ return head.value}\n",
    "    \n",
    "    function pop(head) {  \n",
    "        const auxNode = head ?? {};\n",
    "        return auxNode.next;\n",
    "    }\n",
    "        \n",
    "    function getIterator(head){\n",
    "    return (function*(){\n",
    "    let auxNode = head ?? {}\n",
    "      while(auxNode.value){\n",
    "        yield auxNode.value\n",
    "        auxNode = auxNode.next ?? {}\n",
    "      }\n",
    "    })()\n",
    "    }\n",
    "            \n",
    "let stack;\n",
    "\n",
    "stack = push(stack, 1)\n",
    "stack = push(stack, 2)\n",
    "peak(stack) // 2\n",
    "stack = pop(stack)\n",
    "peak(stack) // 1\n",
    "\n",
    "stack = push(stack, 3)\n",
    "stack = push(stack, 4)\n",
    "stack = push(stack, 2)\n",
    "stack = push(stack, 2)\n",
    "\n",
    "console.log([...getIterator(stack)])\n",
    "        \n",
    "})(); "
   ]
  },
  {
   "cell_type": "markdown",
   "id": "41987e7d",
   "metadata": {},
   "source": [
    "Aquest codi és molt funcional ja i totes les funcions són pures. \n",
    "\n",
    "No obstant, es pot fer encara més funcional, ja que hi ha funcions amb més d'un argument. Podem fer currying:"
   ]
  },
  {
   "cell_type": "code",
   "execution_count": 37,
   "id": "a2975625",
   "metadata": {},
   "outputs": [
    {
     "name": "stdout",
     "output_type": "stream",
     "text": [
      "[ 2, 2, 4, 3, 1 ]\n"
     ]
    }
   ],
   "source": [
    "(()=>{\n",
    "    \n",
    "\n",
    "    const push = (head) =>\n",
    "         (value) => {\n",
    "          const node = {value,next: head};\n",
    "          return node;\n",
    "       }\n",
    "    \n",
    "    \n",
    "    const peak = (head) => head.value;\n",
    "    \n",
    "    const pop = (head) => {  \n",
    "        const auxNode = head ?? {};\n",
    "        return auxNode.next;\n",
    "    }\n",
    "        \n",
    "    const getIterator = (head) => \n",
    "    (function*(){\n",
    "    let auxNode = head ?? {}\n",
    "      while(auxNode.value){\n",
    "        yield auxNode.value\n",
    "        auxNode = auxNode.next ?? {}\n",
    "      }\n",
    "    })()\n",
    "    \n",
    "            \n",
    "let stack;\n",
    "\n",
    "stack = push(stack)(1)\n",
    "stack = push(stack)(2)\n",
    "peak(stack) // 2\n",
    "stack = pop(stack)\n",
    "peak(stack) // 1\n",
    "\n",
    "stack = push(stack)( 3)\n",
    "stack = push(stack)( 4)\n",
    "stack = push(stack)( 2)\n",
    "stack = push(stack)( 2)\n",
    "\n",
    "console.log([...getIterator(stack)])\n",
    "        \n",
    "})(); "
   ]
  },
  {
   "cell_type": "markdown",
   "id": "44abc050",
   "metadata": {},
   "source": [
    "Sols cambiem push i la manera de cridar-la. També hem fer algunes de les funcions fletxa per minimitzar el codi."
   ]
  },
  {
   "cell_type": "code",
   "execution_count": null,
   "id": "89e607a0",
   "metadata": {},
   "outputs": [],
   "source": []
  }
 ],
 "metadata": {
  "kernelspec": {
   "display_name": "JavaScript (Node.js)",
   "language": "javascript",
   "name": "javascript"
  },
  "language_info": {
   "file_extension": ".js",
   "mimetype": "application/javascript",
   "name": "javascript",
   "version": "16.13.0"
  }
 },
 "nbformat": 4,
 "nbformat_minor": 5
}
