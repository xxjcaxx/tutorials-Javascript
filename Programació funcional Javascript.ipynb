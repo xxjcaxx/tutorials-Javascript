{
 "cells": [
  {
   "cell_type": "markdown",
   "id": "af0ee930",
   "metadata": {},
   "source": [
    "# Programació funcional\n",
    "\n",
    "### Lectures:\n",
    "* https://lemoncode.net/lemoncode-blog/2017/9/5/introduccion-programacion-funcional-javascript\n",
    "* https://www.freecodecamp.org/news/javascript-immutability-frozen-objects-with-examples/ \n",
    "* https://www.geeksforgeeks.org/why-is-immutability-so-important-in-javascript/\n",
    "* https://javascript.info/currying-partials\n",
    "* https://dev.to/mpodlasin/functional-programming-in-js-part-i-composition-currying-lodash-and-ramda-1ohb\n",
    "* https://github.com/getify/Functional-Light-JS \n",
    "* https://mostly-adequate.gitbook.io/mostly-adequate-guide/ "
   ]
  },
  {
   "cell_type": "markdown",
   "id": "2e5b7ad3",
   "metadata": {},
   "source": [
    "## Programació funcional en JS\n",
    "-   Hi ha llenguatges totalment funcionals: Lisp, Haskell, Scala\n",
    "\n",
    "-   Altres són multiparadigma: Java, Javascript, Python... \n",
    "\n",
    "-   Javascript ha anat incorporant funcions per a poder programar de manera funcional si vols.\n",
    "\n",
    "-   Fins a ES6, llibreries com Lodash o Underscore van suplir les carències. \n",
    "\n",
    "-   La programació funcional ha eixit del mon acadèmic al popular gràcies a JS, entre altres."
   ]
  },
  {
   "cell_type": "markdown",
   "id": "e6a82998",
   "metadata": {},
   "source": [
    "### Definicions\n",
    "-   Avaluació declarativa vs imperativa\n",
    "\n",
    "-   Funcions Pures\n",
    "\n",
    "-   Immutabilitat\n",
    "\n",
    "-   Sense efectes secundaris (side effects)\n",
    "\n",
    "-   És un paradigma, una manera de pensar i escriure codi.\n",
    "\n",
    "-   Tracta de reduir la programació imperativa i POO.\n",
    "\n",
    "Cal aclarir que la programació estructurada és perfectament correcta, així com la orientada a objectes. De fet, en general, el millor és combinar el millor de cadascuna segons ens interesse."
   ]
  },
  {
   "cell_type": "markdown",
   "id": "4a9de146",
   "metadata": {},
   "source": [
    "### Inmutabilitat \n",
    "https://www.freecodecamp.org/news/javascript-immutability-frozen-objects-with-examples/\n",
    "\n",
    "-   Evitar que una part del programa modifique dades de forma inconsistent.\n",
    "\n",
    "-   Reduir o eliminar les assignacions\n",
    "\n",
    "-   Utilitzar estructures de dades inmutables.\n",
    "\n",
    "-   Copiar objectes si es vol modificar en compte d'assignar per referència.\n",
    "\n",
    " -   Funcions freeze i seal\n",
    "\n",
    " -  Els strings són immutables"
   ]
  },
  {
   "cell_type": "code",
   "execution_count": 15,
   "id": "f3f6adb1",
   "metadata": {},
   "outputs": [
    {
     "name": "stdout",
     "output_type": "stream",
     "text": [
      "[ 1, 2, 3, 10000 ]\n"
     ]
    }
   ],
   "source": [
    "(()=>{\n",
    "let foo = [1, 2, 3];\n",
    "let bar = foo;\n",
    "bar.push(10000);\n",
    "\n",
    "console.log(foo)\n",
    "})(); "
   ]
  },
  {
   "cell_type": "markdown",
   "id": "39e78be9",
   "metadata": {},
   "source": [
    "Com podem observar, al modificar bar, també es modifica foo. Es tracta d'un efecte totalment perillós, ja que les referències a objectes es poden descontrolar i no sabem amb seguretat l'estat real de l'array foo.\n",
    "\n",
    "Amb les funcions freeze i seal es poden protegir els objectes. Freeze no permet canviar cap element de l'array. seal no permet afegir elements. "
   ]
  },
  {
   "cell_type": "code",
   "execution_count": 16,
   "id": "b656e924",
   "metadata": {},
   "outputs": [
    {
     "ename": "TypeError",
     "evalue": "Cannot add property 3, object is not extensible",
     "output_type": "error",
     "traceback": [
      "evalmachine.<anonymous>:5",
      "bar.push(10000);",
      "    ^",
      "",
      "TypeError: Cannot add property 3, object is not extensible",
      "    at Array.push (<anonymous>)",
      "    at evalmachine.<anonymous>:5:5",
      "    at evalmachine.<anonymous>:8:3",
      "    at Script.runInThisContext (vm.js:134:12)",
      "    at Object.runInThisContext (vm.js:310:38)",
      "    at run ([eval]:1054:15)",
      "    at onRunRequest ([eval]:888:18)",
      "    at onMessage ([eval]:848:13)",
      "    at process.emit (events.js:400:28)",
      "    at emit (internal/child_process.js:912:12)"
     ]
    }
   ],
   "source": [
    "(()=>{\n",
    "let foo = [1, 2, 3];\n",
    "Object.freeze(foo);\n",
    "let bar = foo;\n",
    "bar.push(10000);\n",
    "\n",
    "console.log(foo)\n",
    "})(); "
   ]
  },
  {
   "cell_type": "markdown",
   "id": "02faf64d",
   "metadata": {},
   "source": [
    "Amb l'exemple anterior hem \"congelat\" un array i ja no és extensible. Provoca un error i nosaltres, com a programadors/es el detectem i corregim la mutació no dessitjada. Però no funciona profundament, ja que els objectes de dins no estàn congelats:"
   ]
  },
  {
   "cell_type": "code",
   "execution_count": 4,
   "id": "2e0c225c",
   "metadata": {},
   "outputs": [
    {
     "name": "stdout",
     "output_type": "stream",
     "text": [
      "[ 1, 2, 3, { a: 'a', b: 'b', c: 5 } ]\n"
     ]
    }
   ],
   "source": [
    "(()=>{\n",
    "let foo = [1, 2, 3,{a:'a',b:'b'}];\n",
    "Object.freeze(foo);\n",
    "let bar = foo;\n",
    "bar[3].c = 5;\n",
    "\n",
    "console.log(foo)\n",
    "})(); "
   ]
  },
  {
   "cell_type": "markdown",
   "id": "26957aa0",
   "metadata": {},
   "source": [
    "Es veu cóm l'objecte literal intern pot ser mutat. Si es vol una congelació absoluta, cal fer una tècnica de deep freeze amb una funció que ho recòrrega tot. \n",
    "\n",
    "No obstant, sempre és millor evitar dirèctament les assignacions dirèctes i copiar els objectes o arrays. La copia també té els seus propis problemes. Mirem aquest exemple:"
   ]
  },
  {
   "cell_type": "code",
   "execution_count": 2,
   "id": "340f206b",
   "metadata": {},
   "outputs": [
    {
     "name": "stdout",
     "output_type": "stream",
     "text": [
      "[ 1, 2, 3, 4, { a: 'a', b: 'C' } ]\n"
     ]
    }
   ],
   "source": [
    "(()=>{\n",
    "const a = [1,2,3,4,{a:'a',b:'b'}];\n",
    "const b = [...a];  // còpia amb spread operator\n",
    "b[0] = 1000;\n",
    "b[4].b = 'C';\n",
    "console.log(a)\n",
    "})(); "
   ]
  },
  {
   "cell_type": "markdown",
   "id": "d7b504df",
   "metadata": {},
   "source": [
    "En l'exemple anterior, els números són copiats per valor, però l'objecte és copiat per referència. Per axiò pot mutar en l'array original. En les versions de 2021 de JS ja existeix structuredClone() que permet una còpia profunda:"
   ]
  },
  {
   "cell_type": "code",
   "execution_count": 3,
   "id": "d8b64201",
   "metadata": {},
   "outputs": [
    {
     "ename": "ReferenceError",
     "evalue": "structuredClone is not defined",
     "output_type": "error",
     "traceback": [
      "evalmachine.<anonymous>:3",
      "const b = structuredClone(a) // còpia amb spread operator",
      "          ^",
      "",
      "ReferenceError: structuredClone is not defined",
      "    at evalmachine.<anonymous>:3:11",
      "    at evalmachine.<anonymous>:7:3",
      "    at Script.runInThisContext (vm.js:134:12)",
      "    at Object.runInThisContext (vm.js:310:38)",
      "    at run ([eval]:1054:15)",
      "    at onRunRequest ([eval]:888:18)",
      "    at onMessage ([eval]:848:13)",
      "    at process.emit (events.js:400:28)",
      "    at emit (internal/child_process.js:912:12)",
      "    at processTicksAndRejections (internal/process/task_queues.js:83:21)"
     ]
    }
   ],
   "source": [
    "(()=>{\n",
    "const a = [1,2,3,4,{a:'a',b:'b'}];\n",
    "const b = structuredClone(a) // còpia amb structuredClone (pot no funcionar en aquesta versió de node)\n",
    "b[0] = 1000;\n",
    "b[4].b = 'C';\n",
    "console.log(a)\n",
    "})(); "
   ]
  },
  {
   "cell_type": "markdown",
   "id": "c84ccb45",
   "metadata": {},
   "source": [
    "Cal dir que el Strings, que són un tipus especial d'objectes i tenen en algunes coses un comportament com un Array, són immutables. Mirem l'exemple:"
   ]
  },
  {
   "cell_type": "code",
   "execution_count": 7,
   "id": "61ab0b57",
   "metadata": {},
   "outputs": [
    {
     "name": "stdout",
     "output_type": "stream",
     "text": [
      "abcd abcd\n"
     ]
    }
   ],
   "source": [
    "(()=>{\n",
    "let a =  \"abcd\";\n",
    "let b = a;\n",
    "b[2] = 'g';\n",
    "console.log(a,b)\n",
    "})(); "
   ]
  },
  {
   "cell_type": "markdown",
   "id": "0f8dfc1b",
   "metadata": {},
   "source": [
    "En l'exemple anterior, si vulguerem canviar la lletra, deuriem fer coses com el següent:"
   ]
  },
  {
   "cell_type": "code",
   "execution_count": 8,
   "id": "b2045ebf",
   "metadata": {},
   "outputs": [
    {
     "name": "stdout",
     "output_type": "stream",
     "text": [
      "abgd\n"
     ]
    }
   ],
   "source": [
    "(()=>{\n",
    "let a =  \"abcd\";\n",
    "a = a.split('');\n",
    "a[2] = 'g';\n",
    "a = a.join('');\n",
    "console.log(a);\n",
    "})(); "
   ]
  },
  {
   "cell_type": "markdown",
   "id": "b244d3a8",
   "metadata": {},
   "source": [
    "***Resum de immutabilitat:***\n",
    "\n",
    "* Cal no utilitzar variables sempre que es puga, les constants també cal llimitar-les.\n",
    "* Cal no utilitzar variables globals. Si es necessiten, buscarem una manera de centralitzar-les i mantindre la immutabilitat. (Redux, per exemple).\n",
    "* En cas d'utilitzar const en Objecte o Arrays, cal recordar que no estan, per defecte, congelats.\n",
    "* Es pot congelar en freeze o seal, però no ho fa de manera profunda.\n",
    "* Sempre és millor copiar que assignar un objecte. \n",
    " * Amb [...objecte] sol funcionar si no hi ha sub-objectes. \n",
    " * Ara tenim structuredClone() per a una clonació profunda. \n",
    " \n",
    "L'immutabilitat és un dels pricipis fonamentals de la programació funcional. Pot semblar una auto-llimitació massa important. Quan ens ensenyen a programar, la manera més fàcil es un programa que va canviar l'estat del programa en cada instrucció. El concepte de l'estat del programa es refereix a les variables i altres estructures de dades. Podem crear noves variables o modificar les existents (per això es diuen variables). Però cóm vaig a programar sense variables? Cóm va a passar res si no modifique el valor de alguna cosa?. Si complim totalment les premises de la programació funcional no cal fer quasi cap variable, inclús es pot fer sense fer moltes constants. \n",
    "\n",
    "La programació funcional no s'ha d'entendre com un dogma que ens complique la vida. Si necessitem fer variables les fem. Però conforme es programa tenin en compte aquests principis, ens donem compte de que no calien tantes variables. Si programem pensant en l'immutabilitat, farem unes poques constants globals i molt poques variables dins de funcions menudes. "
   ]
  },
  {
   "cell_type": "markdown",
   "id": "83b083b7",
   "metadata": {},
   "source": [
    "### Purificació de funcions\n",
    "\n",
    "En la programació funcional, totes les funcions han de complir uns requisits:\n",
    "* Han de tenir pocs arguments.\n",
    "* Sols faran una cosa.\n",
    "* Seran pures i deterministes\n",
    "* KISS\n",
    "* DRY\n",
    "* No tindran efectes col·laterals \n",
    "* Treballaran sobre dades inmutables i no provocaran canvis d’estat"
   ]
  },
  {
   "cell_type": "markdown",
   "id": "c7f68e2a",
   "metadata": {},
   "source": [
    "Anem a estudiar la purificació de funcions amb una funció totalment impura i anirem solucionant els seus problemes:"
   ]
  },
  {
   "cell_type": "code",
   "execution_count": 21,
   "id": "292be041",
   "metadata": {},
   "outputs": [
    {
     "name": "stdout",
     "output_type": "stream",
     "text": [
      "{\n",
      "  array: [\n",
      "    7.334945661713217,\n",
      "    14.669891323426434,\n",
      "    22.00483698513965,\n",
      "    29.339782646852868,\n",
      "    36.67472830856609\n",
      "  ],\n",
      "  arrayMult: [ 10, 20, 30, 40, 50 ],\n",
      "  arrayRand: [\n",
      "    7.334945661713217,\n",
      "    14.669891323426434,\n",
      "    22.00483698513965,\n",
      "    29.339782646852868,\n",
      "    36.67472830856609\n",
      "  ]\n",
      "}\n"
     ]
    }
   ],
   "source": [
    "(()=>{\n",
    "\n",
    "    let n = 10;\n",
    "    let array = [1,2,3,4,5];\n",
    "    let arrayMult = [];\n",
    "    let arrayRand = [];\n",
    "    let i = 0;\n",
    "    // Funció que crea un array amb tots els elements d'un altre multiplicats per 10 \n",
    "    // i un altre amb els elements multiplicats per 10 i un número aleatori\n",
    "    function multiArray(){\n",
    "        let ran = Math.random();\n",
    "        for(i=0; i<array.length; i++){\n",
    "            array[i]*=n;\n",
    "            arrayMult[i] = array[i];\n",
    "            array[i]*=ran;\n",
    "            arrayRand[i] = array[i];\n",
    "        }\n",
    "    }\n",
    "    \n",
    "    multiArray();\n",
    "    console.log({array,arrayMult,arrayRand})\n",
    "})(); "
   ]
  },
  {
   "cell_type": "markdown",
   "id": "85b12137",
   "metadata": {},
   "source": [
    "És difícil fer una funció més impura. Anem a analitzar perquè és impura:\n",
    "* Fà més d'una cosa (modifica dos arrays teòricament independents)\n",
    "* No és determinista, ja que utilitza un número aleatori.\n",
    "* No és DRY, ja que aplica dues vegades la multiplicació.\n",
    "* Té molts efectes col·laterals, ja que muta arrays globals. És més, muta l'array original.\n",
    "* Com a conseqüència, no treballa sobre dades immutables i provoca canvis d'estat. L'array original és diferent quan acaba la funció. \n",
    "\n",
    "Anem a anar arreglant aquesta funció poc a poc. El primer és llevar l'efecte col·lateral que més ens incomoda: el de l'array original:\n"
   ]
  },
  {
   "cell_type": "code",
   "execution_count": 22,
   "id": "42340849",
   "metadata": {},
   "outputs": [
    {
     "name": "stdout",
     "output_type": "stream",
     "text": [
      "{\n",
      "  array: [ 1, 2, 3, 4, 5 ],\n",
      "  arrayMult: [ 10, 20, 30, 40, 50 ],\n",
      "  arrayRand: [\n",
      "    5.993910670223849,\n",
      "    11.987821340447699,\n",
      "    17.98173201067155,\n",
      "    23.975642680895398,\n",
      "    29.96955335111925\n",
      "  ]\n",
      "}\n"
     ]
    }
   ],
   "source": [
    "(()=>{\n",
    "    let n = 10;\n",
    "    let array = [1,2,3,4,5];\n",
    "    let arrayMult = [];\n",
    "    let arrayRand = [];\n",
    "    let i = 0;\n",
    "    // Funció que crea un array amb tots els elements d'un altre multiplicats per 10 \n",
    "    // i un altre amb els elements multiplicats per 10 i un número aleatori\n",
    "    function multiArray(){\n",
    "        let ran = Math.random();\n",
    "        for(i=0; i<array.length; i++){\n",
    "            arrayMult[i] = array[i] * n;\n",
    "            arrayRand[i] = arrayMult[i] * ran;\n",
    "        }\n",
    "    }\n",
    "    \n",
    "    multiArray();\n",
    "    console.log({array,arrayMult,arrayRand})\n",
    "})(); "
   ]
  },
  {
   "cell_type": "markdown",
   "id": "c5312916",
   "metadata": {},
   "source": [
    "Ara L'altre efecte col·lateral que és utilitzar variables globals:"
   ]
  },
  {
   "cell_type": "code",
   "execution_count": 23,
   "id": "a3a7b912",
   "metadata": {},
   "outputs": [
    {
     "name": "stdout",
     "output_type": "stream",
     "text": [
      "{\n",
      "  array: [ 1, 2, 3, 4, 5 ],\n",
      "  arrayMult: [ 10, 20, 30, 40, 50 ],\n",
      "  arrayRand: [\n",
      "    6.704718512845018,\n",
      "    13.409437025690035,\n",
      "    20.114155538535055,\n",
      "    26.81887405138007,\n",
      "    33.52359256422509\n",
      "  ]\n",
      "}\n"
     ]
    }
   ],
   "source": [
    "(()=>{\n",
    "    let n = 10;\n",
    "    let array = [1,2,3,4,5];\n",
    "    // Funció que crea un array amb tots els elements d'un altre multiplicats per 10 \n",
    "    // i un altre amb els elements multiplicats per 10 i un número aleatori\n",
    "    function multiArray(array,n){\n",
    "        let ran = Math.random();\n",
    "        let arrayMult = [];\n",
    "        let arrayRand = [];\n",
    "        for(let i=0; i<array.length; i++){\n",
    "            arrayMult[i] = array[i] * n;\n",
    "            arrayRand[i] = arrayMult[i] * ran;\n",
    "        }\n",
    "        return {arrayMult,arrayRand}  // Retorne un objecte amb destructuring\n",
    "    }  \n",
    "    \n",
    "    let {arrayMult,arrayRand} = multiArray(array,n);\n",
    "    console.log({array,arrayMult,arrayRand})\n",
    "})(); "
   ]
  },
  {
   "cell_type": "markdown",
   "id": "1e9c069f",
   "metadata": {},
   "source": [
    "Si una funció necessita multiplicar per un número aleatori, mai serà programació funcional pura pel determinisme. No obstant, l'indeterminisme s'ha de mantindre controlat i aïllat. Podem fer una funció determinista per multiplicar, però passar-li un número aleatori: "
   ]
  },
  {
   "cell_type": "code",
   "execution_count": 26,
   "id": "af38ad1d",
   "metadata": {},
   "outputs": [
    {
     "name": "stdout",
     "output_type": "stream",
     "text": [
      "{\n",
      "  array: [ 1, 2, 3, 4, 5 ],\n",
      "  arrayMult: [ 10, 20, 30, 40, 50 ],\n",
      "  arrayRand: [\n",
      "    2.1069515084261936,\n",
      "    4.213903016852387,\n",
      "    6.32085452527858,\n",
      "    8.427806033704774,\n",
      "    10.534757542130968\n",
      "  ]\n",
      "}\n"
     ]
    }
   ],
   "source": [
    "(()=>{\n",
    "    let n = 10;\n",
    "    let array = [1,2,3,4,5];\n",
    "    // Funció que crea un array amb tots els elements d'un altre multiplicats per 10 \n",
    "    // i un altre amb els elements multiplicats per 10 i un número aleatori\n",
    "    function multiArray(array,n,n2){\n",
    "        let arrayMult = [];\n",
    "        let arrayRand = [];\n",
    "        for(let i=0; i<array.length; i++){\n",
    "            arrayMult[i] = array[i] * n;\n",
    "            arrayRand[i] = arrayMult[i] * n2;\n",
    "        }\n",
    "        return {arrayMult,arrayRand}  // Retorne un objecte amb destructuring\n",
    "    }  \n",
    "    \n",
    "    let {arrayMult,arrayRand} = multiArray(array,n,Math.random());\n",
    "    console.log({array,arrayMult,arrayRand})\n",
    "})(); "
   ]
  },
  {
   "cell_type": "markdown",
   "id": "7da767ec",
   "metadata": {},
   "source": [
    "Encara tenim un problema en el principi DRY. Anem a simplificar la funció i a cridar-la les vegades que faça falta:"
   ]
  },
  {
   "cell_type": "code",
   "execution_count": 33,
   "id": "f4d47af3",
   "metadata": {},
   "outputs": [
    {
     "name": "stdout",
     "output_type": "stream",
     "text": [
      "{\n",
      "  array: [ 1, 2, 3, 4, 5 ],\n",
      "  arrayMult: [ 10, 20, 30, 40, 50 ],\n",
      "  arrayRand: [\n",
      "    3.845826152627656,\n",
      "    7.691652305255312,\n",
      "    11.537478457882969,\n",
      "    15.383304610510624,\n",
      "    19.22913076313828\n",
      "  ]\n",
      "}\n"
     ]
    }
   ],
   "source": [
    "(()=>{\n",
    "    let n = 10;\n",
    "    let array = [1,2,3,4,5];\n",
    "\n",
    "    function multiArray(array,n){\n",
    "        let arrayMult = [];\n",
    "        for(let i=0; i<array.length; i++){\n",
    "            arrayMult[i] = array[i] * n;\n",
    "        }\n",
    "        return arrayMult;\n",
    "    }  \n",
    "    \n",
    "    let arrayMult = multiArray(array,n);\n",
    "    let arrayRand = multiArray(arrayMult,Math.random());\n",
    "    console.log({array,arrayMult,arrayRand})\n",
    "})(); "
   ]
  },
  {
   "cell_type": "markdown",
   "id": "16a9475d",
   "metadata": {},
   "source": [
    "Al no mutar les variable ni tindre efectes col·laterals, en aquest cas no cal aplicar cap tècnica especial de immutabilitat. Però, per precaució si programem més, cal fer constants: "
   ]
  },
  {
   "cell_type": "code",
   "execution_count": 34,
   "id": "62377d0c",
   "metadata": {},
   "outputs": [
    {
     "name": "stdout",
     "output_type": "stream",
     "text": [
      "{\n",
      "  array: [ 1, 2, 3, 4, 5 ],\n",
      "  arrayMult: [ 10, 20, 30, 40, 50 ],\n",
      "  arrayRand: [\n",
      "    3.7526506602538823,\n",
      "    7.5053013205077646,\n",
      "    11.257951980761646,\n",
      "    15.010602641015529,\n",
      "    18.763253301269412\n",
      "  ]\n",
      "}\n"
     ]
    }
   ],
   "source": [
    "(()=>{\n",
    "    const n = 10;\n",
    "    const array = [1,2,3,4,5];\n",
    "\n",
    "    function multiArray(array,n){\n",
    "        let arrayMult = [];\n",
    "        for(let i=0; i<array.length; i++){\n",
    "            arrayMult[i] = array[i] * n;\n",
    "        }\n",
    "        return arrayMult;\n",
    "    }  \n",
    "    \n",
    "    const arrayMult = multiArray(array,n);\n",
    "    const arrayRand = multiArray(arrayMult,Math.random());\n",
    "    console.log({array,arrayMult,arrayRand})\n",
    "})(); "
   ]
  },
  {
   "cell_type": "markdown",
   "id": "85a02a9a",
   "metadata": {},
   "source": [
    "Ara la funció és pura de cara a l'exterior, però encara no és totalment pura internament, ja que el for muta la variable i i arrayMult.\n",
    "Anem a fer molts canvis per evitar la declaració de moltes variables i constants innecesàries en aquest codi:"
   ]
  },
  {
   "cell_type": "code",
   "execution_count": 38,
   "id": "effccf7a",
   "metadata": {},
   "outputs": [
    {
     "name": "stdout",
     "output_type": "stream",
     "text": [
      "[ 1, 2, 3, 4, 5 ] [ 10, 20, 30, 40, 50 ] [\n",
      "  8.026004757143099,\n",
      "  16.052009514286198,\n",
      "  24.078014271429296,\n",
      "  32.104019028572395,\n",
      "  40.130023785715494\n",
      "]\n"
     ]
    }
   ],
   "source": [
    "(()=>{\n",
    "    const n = 10;\n",
    "    const array = [1,2,3,4,5];\n",
    "\n",
    "    function multiArray(array,n){\n",
    "        return array.map(numero=> numero * n)\n",
    "    }  \n",
    "    \n",
    "    const arrayMult = multiArray(array,n);\n",
    "    console.log(array, arrayMult, multiArray(arrayMult,Math.random()) )\n",
    "})(); "
   ]
  },
  {
   "cell_type": "markdown",
   "id": "3b4d6313",
   "metadata": {},
   "source": [
    "### Funcions d'ordre superior\n",
    "\n",
    "* Accepten o retornen funcions\n",
    "* Map, Filter i Reduce són les més importants\n",
    "* Podem fer les nostres funcions d’ordre superior.\n",
    "* Altres no totalment funcionals:\n",
    " * forEach, some, every, find, findIndex, flatMap, reduceRight\n",
    "\n",
    "\n",
    "Cal tindre algunes consideracions: \n",
    "* Map no és igual a fer un for amb un array auxiliar i un return d'eixe array. Per a quasi tot és el mateix, però no garantitza que s'executa seqüencialment en el mateix ordre. \n",
    "* Map no s'ha d'utilitzar mai amb funcions que tinguen efectes col·laterals (variables globals, DOM, fetch...). A no ser que s'utilitze per crear un array de promeses o un array d'elements del DOM, per exemple.\n",
    "* Si volem efectes col·laterals (No recomanables) utilitzarem forEach.\n",
    "* Si no necessitem que retorne un array modificat, utilitzarem forEach o reduce. \n",
    "* Si volem fer un await en cada iteració MAI utilitzarem map, ja que és una funció optimitzada que llança totes les promeses. forEach serà provablement la millor opció. Es pot utilitzar reduce també.\n",
    "* Utilitzarem funcions fletxa per defecte per mantindre el \"this\" de fora. (No obstant, no es recomana utilitzar this en funcions pures)\n",
    "\n",
    "Exemples típics d'algunes funcions d'ordre superior:"
   ]
  },
  {
   "cell_type": "code",
   "execution_count": 49,
   "id": "02ab709e",
   "metadata": {},
   "outputs": [
    {
     "name": "stdout",
     "output_type": "stream",
     "text": [
      "1\n",
      "2\n",
      "3\n",
      "4\n",
      "[ 1, 4, 9, 16 ]\n",
      "[ 3, 4 ]\n",
      "10\n",
      "true\n",
      "false\n",
      "3\n",
      "2\n",
      "[\n",
      "  1, 1, 2, 2,\n",
      "  3, 3, 4, 4\n",
      "]\n"
     ]
    }
   ],
   "source": [
    "(()=>{\n",
    "const A = [1,2,3,4];\n",
    "\n",
    "// Llista els elements: forEach, ja que no retornem res:\n",
    "A.forEach(a => console.log(a));\n",
    "\n",
    "// Quadrat del els elements: map perquè retornem un array\n",
    "console.log( A.map(a=> a*a)  );\n",
    "\n",
    "// Treure els majors de 2: Filter\n",
    "console.log( A.filter(a=> a>2)  );\n",
    "    \n",
    "// Sumar els elements: reduce per evitar la típica variable acumuladora:\n",
    "console.log( A.reduce((a,b)=> a+b)  );\n",
    "\n",
    "// Saber si alguns són menors de 3: some()\n",
    "console.log( A.some(a=> a<3)  );\n",
    "    \n",
    "// Saber si tots són menors de 3: every()\n",
    "console.log( A.every(a=> a<3)  );\n",
    "    \n",
    "// Trobar el primer element major de 2: find()\n",
    "console.log( A.find(a=> a>2)  );\n",
    "    \n",
    "// Trobar l'índex de primer element major de 2: find()\n",
    "console.log( A.findIndex(a=> a>2)  );    \n",
    "    \n",
    "// Duplicar cada element: flatMap, ja que necessitem un array per duplicar i després aplanar:\n",
    "console.log( A.flatMap(a=> [a,a])  );      \n",
    "    \n",
    "    \n",
    "})(); "
   ]
  },
  {
   "cell_type": "markdown",
   "id": "70b44302",
   "metadata": {},
   "source": [
    "### Currying\n",
    "\n",
    "* Currificar consisteix a convertir una funció de múltiples variables en una seqüència de funcions unaries\n",
    "* Llibreries com Lodash o Ramda incorporen una funció per currificar altres funcions. Les funcions currificades poden ser cridades de les dues maneres.\n",
    "* Es poden aprofitar les closures.\n",
    "* Permet reaprofitar millor.\n",
    "* Manté millor les funcions pures.\n",
    "\n",
    "Exemple:\n"
   ]
  },
  {
   "cell_type": "code",
   "execution_count": 53,
   "id": "86031530",
   "metadata": {},
   "outputs": [
    {
     "name": "stdout",
     "output_type": "stream",
     "text": [
      "Dist currificades: [ 5.830951894845301, 5.656854249492381, 8.246211251235321 ]\n"
     ]
    }
   ],
   "source": [
    "(()=>{\n",
    "    \n",
    "    /// Array de jugadors amb la seua posició\n",
    "const players = [{ name: \"Alice\", color: \"aliceblue\", position: { x: 3, y: 5 },},\n",
    "                 { name: \"Benji\", color: \"goldenrod\", position: { x: -4, y: -4 },},\n",
    "  { name: \"Clarissa\",color: \"firebrick\", position: { x: -2, y: 8 }, },];\n",
    "// Posició de la bandera\n",
    "const flag = { x: 0, y: 0 };\n",
    "\n",
    "const distancewithCurrying =\n",
    " (start) => (end) => Math.sqrt(Math.pow(end.x - start.x, 2) + Math.pow(end.y - start.y, 2));\n",
    "\n",
    "const distanceFromFlag = distancewithCurrying(flag);\n",
    "const curriedDistances = players.map(player => player.position).map(distanceFromFlag)\n",
    "console.log(\"Dist currificades:\", curriedDistances);\n",
    "    \n",
    "})(); "
   ]
  },
  {
   "cell_type": "markdown",
   "id": "3e107949",
   "metadata": {},
   "source": [
    "Un altre exemple:"
   ]
  },
  {
   "cell_type": "code",
   "execution_count": 55,
   "id": "3b3cbf13",
   "metadata": {},
   "outputs": [
    {
     "name": "stdout",
     "output_type": "stream",
     "text": [
      "[ 14, 26, 24, 108 ]\n",
      "false true false true\n",
      "[\n",
      "  11, 14, 26, 9,\n",
      "  41, 24, 65\n",
      "]\n",
      "[ 26, 24 ]\n"
     ]
    }
   ],
   "source": [
    "(()=>{\n",
    "const ages = [11, 14, 26, 9, 41, 24, 65, 67, 108];\n",
    "// Funció tradicional de si és imparell\n",
    "\n",
    "const isEven = (num) => (num % 2 === 0 ? true : false);\n",
    "\n",
    "console.log(ages.filter(isEven));\n",
    "\n",
    "/* El següent exemple fa uns filtres amb currying diferents */\n",
    "const isEqualTo = (comparator) => (value) => value === comparator;\n",
    "const isGreaterThan = (comparator) => (value) => value > comparator;\n",
    "\n",
    "/* Amb ajuda de les funcions anteriors, creem funcions que comproven coses de manera més específica\n",
    "El primer treu una funció per saber si és igual a 7\n",
    "El segon diu si té la majoria d'edat  */\n",
    "const isSeven = isEqualTo(7);\n",
    "const isOfLegalMajority = isGreaterThan(18);\n",
    "\n",
    "console.log(isSeven(5),isSeven(7),isOfLegalMajority(10),isOfLegalMajority(20));\n",
    "\n",
    "/* Fem una altra funció per treure el contrari i l'aprofitem amb ajuda de isGreaterThan per treure un altre filtre */\n",
    "const isNot = (value) => !value;\n",
    "const isLessThanOrEqualTo = (comparator) => (value) =>  isNot(isGreaterThan(comparator)(value));\n",
    "\n",
    "// Ara tenim una funció que aprofita les anteriors per saber si algú és menor de 65\n",
    "const isTooYoungToRetire = isLessThanOrEqualTo(65);\n",
    "\n",
    "console.log(ages.filter(isTooYoungToRetire));\n",
    "\n",
    "/* Amb aquestes funcions podem fer coses més complexes: */\n",
    "\n",
    "const isInRange = (minComparator) => (maxComparator) => (value) => isGreaterThan(minComparator)(value) &&\n",
    "  isLessThanOrEqualTo(maxComparator)(value);\n",
    "\n",
    "const isTwentySomething = isInRange(19)(30);\n",
    "\n",
    "console.log(ages.filter(isTwentySomething));\n",
    "    \n",
    "        \n",
    "})(); "
   ]
  },
  {
   "cell_type": "markdown",
   "id": "8899203e",
   "metadata": {},
   "source": [
    "### Exemple de composició\n",
    "\n",
    "Prenguem un exemple trivial, invertir un String. Els passos són bastant fàcils de seguir:\n",
    "\n",
    "* Convertir la cadena en un array de lletres,\n",
    "* Invertir l'array de lletres,\n",
    "* Tornar a unir l'array invertit en una cadena,\n",
    "* Retorna la string invertida (transformada).\n",
    "\n",
    "Fàcil de seguir i fàcil d'escriure:"
   ]
  },
  {
   "cell_type": "code",
   "execution_count": 1,
   "id": "3433a462",
   "metadata": {},
   "outputs": [
    {
     "name": "stdout",
     "output_type": "stream",
     "text": [
      "efdcba\n"
     ]
    }
   ],
   "source": [
    "(()=>{\n",
    "const reverseString = function reverseString(string){\n",
    "  const stringArray = string.split('');\n",
    "  const reversedStringArray = stringArray.reverse();\n",
    "  const joinedReversedStringArray = reversedStringArray.join('');\n",
    "\n",
    "  return joinedReversedStringArray;\n",
    "}\n",
    "\n",
    "console.log(reverseString(\"abcdfe\"))\n",
    "})(); "
   ]
  },
  {
   "cell_type": "markdown",
   "id": "f6ae6908",
   "metadata": {},
   "source": [
    "Es tracta de programació funcional? Podem dir que sí, ja que és una funció que no muta la string original, rep un paràmetre i retorna un valor. \n",
    "\n",
    "No obstant és ineficient, ja que estem declarant variables en mig. Ja que tots retornen una valor utilitzable per la següent funció, poden fer **methode chaining**:"
   ]
  },
  {
   "cell_type": "code",
   "execution_count": 2,
   "id": "48519db4",
   "metadata": {},
   "outputs": [
    {
     "name": "stdout",
     "output_type": "stream",
     "text": [
      "efdcba\n"
     ]
    }
   ],
   "source": [
    "(()=>{\n",
    "const reverseString = function reverseString(string){\n",
    "    return string.split('').reverse().join('');\n",
    "}\n",
    "\n",
    "console.log(reverseString(\"abcdfe\"))\n",
    "})(); "
   ]
  },
  {
   "cell_type": "markdown",
   "id": "8d021bc6",
   "metadata": {},
   "source": [
    "Aquesta solució és suficientment bona per a molts casos. No obstant, és complicat reorganitzar les funcions. Quan anem a fer moltes vegades aquestes transformacions, cal buscar una altra manera. \n",
    "\n",
    "***\n",
    "Podem veure un exemple en la llibreria Rxjs. En versions antigues utilitzen methode chaining, però en les últimes han passat a fer composició gràcies a la funció pipe().\n",
    "***\n",
    "\n",
    "La composició es basa en clavar una funció com a resultat per a una altra. Una manera fàcil, però incòmoda de fer això és:"
   ]
  },
  {
   "cell_type": "code",
   "execution_count": 3,
   "id": "8e6ee4d3",
   "metadata": {},
   "outputs": [
    {
     "name": "stdout",
     "output_type": "stream",
     "text": [
      "efdcba\n"
     ]
    }
   ],
   "source": [
    "(()=>{\n",
    "// Cal convertir les funcions:\n",
    "const split =  (str) => str.split('')\n",
    "const reverse = (arr) => arr.reverse();\n",
    "const join = (arr) => arr.join('')\n",
    "    \n",
    "const reverseString = function reverseString(str){\n",
    "    return join(reverse(split(str)))\n",
    "}\n",
    "\n",
    "console.log(reverseString(\"abcdfe\"))\n",
    "})(); "
   ]
  },
  {
   "cell_type": "markdown",
   "id": "67b44c93",
   "metadata": {},
   "source": [
    "El codi pot quedar molt difícil de llegir, similar al conegut callback hell. "
   ]
  },
  {
   "cell_type": "markdown",
   "id": "2eb97bbf",
   "metadata": {},
   "source": [
    "Ara ve la part interesant. En Javascript ja sabem que les funcions són un tipus especial d'objecte. Per tant, podem passar funcions com a paràmetre d'altres funcions. En la composició és el que farem. Podem fer un array de funcions, anar recorreguent l'array i recollint el resultat per passar-ho a la següent funció. \n",
    "\n",
    "Vegem l'exemple anterior fet d'aquesta manera. No és una solució genèrica, però ja pareix més composició:"
   ]
  },
  {
   "cell_type": "code",
   "execution_count": 4,
   "id": "e75719c3",
   "metadata": {},
   "outputs": [
    {
     "name": "stdout",
     "output_type": "stream",
     "text": [
      "efdcba\n"
     ]
    }
   ],
   "source": [
    "(()=>{\n",
    "// Cal convertir les funcions:\n",
    "const split =  (str) => str.split('')\n",
    "const reverse = (arr) => arr.reverse();\n",
    "const join = (arr) => arr.join('')\n",
    "    \n",
    "const reverseString = function reverseString(string){\n",
    "    const functions = [ split, reverse, join ];\n",
    "    let str = string;\n",
    "    functions.forEach(f=>{\n",
    "        str = f(str);\n",
    "    });\n",
    "    return str;\n",
    "}\n",
    "\n",
    "console.log(reverseString(\"abcdfe\"))\n",
    "})(); "
   ]
  },
  {
   "cell_type": "markdown",
   "id": "30fc9421",
   "metadata": {},
   "source": [
    "Inclús podem utilitzar reduce per escriure menys codi:"
   ]
  },
  {
   "cell_type": "code",
   "execution_count": 5,
   "id": "46826d4e",
   "metadata": {},
   "outputs": [
    {
     "name": "stdout",
     "output_type": "stream",
     "text": [
      "efdcba\n"
     ]
    }
   ],
   "source": [
    "(()=>{\n",
    "// Cal convertir les funcions:\n",
    "const split =  (str) => str.split('')\n",
    "const reverse = (arr) => arr.reverse();\n",
    "const join = (arr) => arr.join('')\n",
    "    \n",
    "const reverseString = function reverseString(string){\n",
    "    const functions = [ split, reverse, join ];\n",
    "    return functions.reduce((a,b) => b(a) ,string)\n",
    "}\n",
    "\n",
    "console.log(reverseString(\"abcdfe\"))\n",
    "})(); "
   ]
  },
  {
   "cell_type": "markdown",
   "id": "4f590593",
   "metadata": {},
   "source": [
    "Ja que estem, anem a fer aquesta funció més genèrica, que accepte les instruccions i el string:"
   ]
  },
  {
   "cell_type": "code",
   "execution_count": 6,
   "id": "abdd3bd3",
   "metadata": {},
   "outputs": [
    {
     "name": "stdout",
     "output_type": "stream",
     "text": [
      "fedcba\n"
     ]
    }
   ],
   "source": [
    "(()=>{\n",
    "// Cal convertir les funcions:\n",
    "const split =  (str) => str.split('')\n",
    "const reverse = (arr) => arr.reverse();\n",
    "const join = (arr) => arr.join('')\n",
    "\n",
    "const pipe = (...fns) => (x) => fns.reduce( (acc, fn)=>fn(acc), x)\n",
    "\n",
    "console.log(pipe(split,reverse,join)('abcdef'))\n",
    "})(); "
   ]
  },
  {
   "cell_type": "markdown",
   "id": "94609ad7",
   "metadata": {},
   "source": [
    "Inclús si es va a fer en totes les strings, podem afegir-la a prototype:"
   ]
  },
  {
   "cell_type": "code",
   "execution_count": 7,
   "id": "504eb3e0",
   "metadata": {},
   "outputs": [
    {
     "name": "stdout",
     "output_type": "stream",
     "text": [
      "fedcba\n"
     ]
    }
   ],
   "source": [
    "(()=>{\n",
    "// Cal convertir les funcions:\n",
    "const split =  (str) => str.split('')\n",
    "const reverse = (arr) => arr.reverse();\n",
    "const join = (arr) => arr.join('')\n",
    "\n",
    "const pipe = (...fns) => function() { return fns.reduce( (acc, fn)=>fn(acc), this) };\n",
    "\n",
    "String.prototype.reverseString = pipe(split,reverse,join);\n",
    "\n",
    "console.log('abcdef'.reverseString())\n",
    "})(); "
   ]
  },
  {
   "cell_type": "markdown",
   "id": "88f2c4ff",
   "metadata": {},
   "source": [
    "Amb aquesta idea, es poden fer més combinacions utilitzant la funció pipe igualment:"
   ]
  },
  {
   "cell_type": "code",
   "execution_count": 8,
   "id": "9f5aacde",
   "metadata": {},
   "outputs": [
    {
     "name": "stdout",
     "output_type": "stream",
     "text": [
      "FEDCBA\n"
     ]
    }
   ],
   "source": [
    "(()=>{\n",
    "// Cal convertir les funcions:\n",
    "const split =  (str) => str.split('')\n",
    "const reverse = (arr) => arr.reverse();\n",
    "const join = (arr) => arr.join('')\n",
    "const upper = (str) => str.toUpperCase();\n",
    "\n",
    "const pipe = (...fns) => function() { return fns.reduce( (acc, fn)=>fn(acc), this) };\n",
    "\n",
    "String.prototype.reverseString = pipe(upper,split,reverse,join);\n",
    "\n",
    "console.log('abcdef'.reverseString())\n",
    "})(); "
   ]
  },
  {
   "cell_type": "markdown",
   "id": "e6870d4f",
   "metadata": {},
   "source": [
    "I en realitat estem refent la funció en cada exemple, però si la fiquem en un mòdul d'utilitats o definida abans, els codis queden molt fàcils de llegir:"
   ]
  },
  {
   "cell_type": "code",
   "execution_count": 9,
   "id": "1b087f7c",
   "metadata": {},
   "outputs": [],
   "source": [
    "const split =  (str) => str.split('')\n",
    "const reverse = (arr) => arr.reverse();\n",
    "const join = (arr) => arr.join('')\n",
    "const upper = (str) => str.toUpperCase();\n",
    "const pipe = (...fns) => function() { return fns.reduce( (acc, fn)=>fn(acc), this) };"
   ]
  },
  {
   "cell_type": "markdown",
   "id": "79363dd0",
   "metadata": {},
   "source": [
    "Ara el podem utilitzar sense problemes:"
   ]
  },
  {
   "cell_type": "code",
   "execution_count": 10,
   "id": "2d992b38",
   "metadata": {},
   "outputs": [
    {
     "name": "stdout",
     "output_type": "stream",
     "text": [
      "fedcba\n"
     ]
    }
   ],
   "source": [
    "(()=>{\n",
    "String.prototype.reverseString = pipe(split,reverse,join);\n",
    "console.log('abcdef'.reverseString())\n",
    "})(); "
   ]
  },
  {
   "cell_type": "markdown",
   "id": "90d3ef4f",
   "metadata": {},
   "source": [
    "En general, en la composició, les funcions s'han d'executar en ordre invers. Podem canviar el pipe per recorrer les funcions de dreta a esquerra:"
   ]
  },
  {
   "cell_type": "code",
   "execution_count": 11,
   "id": "0cbf7d5e",
   "metadata": {},
   "outputs": [],
   "source": [
    "const pipeCompose = (...fns) => function(x) { return fns.reduceRight( (acc, fn)=>fn(acc), x) };"
   ]
  },
  {
   "cell_type": "code",
   "execution_count": 12,
   "id": "8462aa1f",
   "metadata": {},
   "outputs": [
    {
     "name": "stdout",
     "output_type": "stream",
     "text": [
      "fedcba\n"
     ]
    }
   ],
   "source": [
    "console.log(pipeCompose(join,reverse,split)('abcdef'))"
   ]
  },
  {
   "cell_type": "markdown",
   "id": "31adec78",
   "metadata": {},
   "source": [
    "Arribats a aquest moment, queda la pregunta de perqué?. El codi original no era tan complicat. Ara tenim una funció currificada que accepta un array de funcions i les executa en reduce. Molt més complicat que encadenar funcions amb punts. \n",
    "És veritat que en l'exemple anterior no guanyen quasi res. No obstant, quan es fan llibreries o mòduls per a que altres puguen utilitzar-los. Quan estem programant programes realment complexs, aquesta diferència és notable. Anem a argumentar perquè:\n",
    "\n",
    "En primer lloc, és molt més fàcil de fer tests en les funcions. En els exemples estem utilitzant funcions pures que sols retornen el resultat d'un mètode de String o Array. Però si les funcions composades són nostres i més complexes, mai deixen de ser funcions pures independents i fàcilment testables. \n",
    "\n",
    "També podem afegir funcions intermitges que no aporten res o que facen efectes col·laterals. Anem a veure un exemple amb una funció que treu per consola l'estat actual de la pipe:"
   ]
  },
  {
   "cell_type": "code",
   "execution_count": 14,
   "id": "add23a84",
   "metadata": {},
   "outputs": [
    {
     "name": "stdout",
     "output_type": "stream",
     "text": [
      "Avans de reverse [ 'a', 'b', 'c', 'd', 'e', 'f' ]\n",
      "Abans de join [ 'f', 'e', 'd', 'c', 'b', 'a' ]\n",
      "fedcba\n"
     ]
    }
   ],
   "source": [
    "(()=>{\n",
    "    \n",
    "const trace = (message) => (value) => { console.log(message,value); return value; }\n",
    "console.log(pipeCompose(join,trace('Abans de join'),reverse,trace('Avans de reverse'),split)('abcdef'));\n",
    "    \n",
    "})(); \n"
   ]
  },
  {
   "cell_type": "markdown",
   "id": "86def145",
   "metadata": {},
   "source": [
    "### Exemple complet:\n",
    "\n",
    "Anem a analitzar un programa fet amb programació estructurada i orientada a objectes i veure com podem transformar-lo en programació funcional. \n",
    "\n",
    "Aquest programa implementa una estructura de dades pila: "
   ]
  },
  {
   "cell_type": "code",
   "execution_count": 58,
   "id": "46bbb621",
   "metadata": {},
   "outputs": [
    {
     "name": "stdout",
     "output_type": "stream",
     "text": [
      "[ 2, 2, 4, 3, 1 ]\n"
     ]
    }
   ],
   "source": [
    "(()=>{\n",
    "    \n",
    "class Pila {\n",
    "    head;\n",
    "    push(value) {\n",
    "        const node = {value , next: this.head};\n",
    "        this.head = node;\n",
    "    }\n",
    "    peak(){ return this.head.value; }\n",
    "    pop() { \n",
    "        const auxNode = this.head ?? {};\n",
    "        const value = auxNode.value;\n",
    "        this.head = auxNode.next;\n",
    "        return value;\n",
    "        }\n",
    "   [Symbol.iterator]=function*(){  // Fer que la classe siga iterator\n",
    "    let auxNode = this.head ?? {}\n",
    "    while(auxNode.value){\n",
    "      yield auxNode.value\n",
    "      auxNode = auxNode.next ?? {}\n",
    "    }\n",
    "  }\n",
    "}\n",
    "\n",
    "const stack = new Pila()\n",
    "\n",
    "stack.push(1)\n",
    "stack.push(2)\n",
    "stack.peak() // 2\n",
    "stack.pop() // 2\n",
    "stack.peak() // 1\n",
    "\n",
    "stack.push(3)\n",
    "stack.push(4)\n",
    "stack.push(2)\n",
    "stack.push(2)\n",
    "\n",
    "console.log([...stack])\n",
    "})(); "
   ]
  },
  {
   "cell_type": "markdown",
   "id": "9d69ad2c",
   "metadata": {},
   "source": [
    "El primer que podem fer és convertir la classe en Immutable. Així, quan es modifica, el que retorna és una còpia, però l'original es queda igual:"
   ]
  },
  {
   "cell_type": "code",
   "execution_count": 62,
   "id": "e4926705",
   "metadata": {},
   "outputs": [
    {
     "name": "stdout",
     "output_type": "stream",
     "text": [
      "[ 2, 2, 4, 3, 1 ]\n"
     ]
    }
   ],
   "source": [
    "(()=>{\n",
    "    \n",
    "class Pila {\n",
    "    head;\n",
    "    constructor(node) { this.head = node; } // necessitem constructor\n",
    "    push(value) {\n",
    "        const node = {value , next: this.head};\n",
    "        return new Pila(node);  // Creem una nova pila amb els mateixos elements\n",
    "    }\n",
    "    peak(){ return this.head.value; }\n",
    "    pop() { \n",
    "        const auxNode = this.head ?? {};\n",
    "        return new Pila(auxNode.next); // Creem una nova pila sense el primer node.\n",
    "        }\n",
    "   [Symbol.iterator]=function*(){  // Fer que la classe siga iterator\n",
    "    let auxNode = this.head ?? {}\n",
    "    while(auxNode.value){\n",
    "      yield auxNode.value\n",
    "      auxNode = auxNode.next ?? {}\n",
    "    }\n",
    "  }\n",
    "}\n",
    "\n",
    "let stack = new Pila()\n",
    "stack = stack.push(1)\n",
    "stack = stack.push(2)\n",
    "stack.peak() // 2\n",
    "stack = stack.pop()\n",
    "stack.peak() // 1\n",
    "\n",
    "stack = stack.push(3)\n",
    "stack = stack.push(4)\n",
    "stack = stack.push(2)\n",
    "stack = stack.push(2)\n",
    "\n",
    "console.log([...stack]) // [ 2, 2, 4, 3, 1 ]\n",
    "})(); "
   ]
  },
  {
   "cell_type": "markdown",
   "id": "9f8a9887",
   "metadata": {},
   "source": [
    "Perquè l'hem fet immutable? Pensem en que dues parts del programa utilitzen aquesta pila a partir d'un moment, qualsevol modificació no molestarà a l'altra part.\n",
    "\n",
    "Ara anem a eliminar les classes."
   ]
  },
  {
   "cell_type": "code",
   "execution_count": 65,
   "id": "ba250392",
   "metadata": {},
   "outputs": [
    {
     "name": "stdout",
     "output_type": "stream",
     "text": [
      "[ 2, 2, 4, 3, 1 ]\n"
     ]
    }
   ],
   "source": [
    "(()=>{\n",
    "    \n",
    "const Pila = {\n",
    "    push(head,value) {\n",
    "        const node = {value,next: head};\n",
    "        return node;\n",
    "    },\n",
    "    peak(head){ return head.value},\n",
    "    pop(head) {  \n",
    "        const auxNode = head ?? {};\n",
    "        return auxNode.next;\n",
    "    },\n",
    "    getIterator(head){\n",
    "    return (function*(){\n",
    "    let auxNode = head ?? {}\n",
    "      while(auxNode.value){\n",
    "        yield auxNode.value\n",
    "        auxNode = auxNode.next ?? {}\n",
    "      }\n",
    "    })()\n",
    "    }\n",
    "}\n",
    "            \n",
    "let stack;\n",
    "\n",
    "stack = Pila.push(stack, 1)\n",
    "stack = Pila.push(stack, 2)\n",
    "Pila.peak(stack) // 2\n",
    "stack = Pila.pop(stack)\n",
    "Pila.peak(stack) // 1\n",
    "\n",
    "stack = Pila.push(stack, 3)\n",
    "stack = Pila.push(stack, 4)\n",
    "stack = Pila.push(stack, 2)\n",
    "stack = Pila.push(stack, 2)\n",
    "\n",
    "console.log([...Pila.getIterator(stack)])\n",
    "        \n",
    "        })(); "
   ]
  },
  {
   "cell_type": "markdown",
   "id": "4a93c389",
   "metadata": {},
   "source": [
    "En compte de tindre una classe, fem un objecte amb utilitats per tractar en les piles. això simplifica algunes funcions, ja que no necessitem utilitzar el this.\n",
    "Ara totes les funcions necessiten que li passem la pila.\n",
    "\n",
    "Si ja no tenim classes, tampoc sembla necessari tindre l'objecte Pila. Anem a llevar-lo:"
   ]
  },
  {
   "cell_type": "code",
   "execution_count": 66,
   "id": "56c2bd68",
   "metadata": {},
   "outputs": [
    {
     "name": "stdout",
     "output_type": "stream",
     "text": [
      "[ 2, 2, 4, 3, 1 ]\n"
     ]
    }
   ],
   "source": [
    "(()=>{\n",
    "    \n",
    "\n",
    "    function push(head,value) {\n",
    "        const node = {value,next: head};\n",
    "        return node;\n",
    "    }\n",
    "    \n",
    "    function peak(head){ return head.value}\n",
    "    \n",
    "    function pop(head) {  \n",
    "        const auxNode = head ?? {};\n",
    "        return auxNode.next;\n",
    "    }\n",
    "        \n",
    "    function getIterator(head){\n",
    "    return (function*(){\n",
    "    let auxNode = head ?? {}\n",
    "      while(auxNode.value){\n",
    "        yield auxNode.value\n",
    "        auxNode = auxNode.next ?? {}\n",
    "      }\n",
    "    })()\n",
    "    }\n",
    "            \n",
    "let stack;\n",
    "\n",
    "stack = push(stack, 1)\n",
    "stack = push(stack, 2)\n",
    "peak(stack) // 2\n",
    "stack = pop(stack)\n",
    "peak(stack) // 1\n",
    "\n",
    "stack = push(stack, 3)\n",
    "stack = push(stack, 4)\n",
    "stack = push(stack, 2)\n",
    "stack = push(stack, 2)\n",
    "\n",
    "console.log([...getIterator(stack)])\n",
    "        \n",
    "})(); "
   ]
  },
  {
   "cell_type": "markdown",
   "id": "69b12f4c",
   "metadata": {},
   "source": [
    "Aquest codi és molt funcional ja i totes les funcions són pures. \n",
    "\n",
    "No obstant, es pot fer encara més funcional, ja que hi ha funcions amb més d'un argument. Podem fer currying:"
   ]
  },
  {
   "cell_type": "code",
   "execution_count": 73,
   "id": "936d012f",
   "metadata": {},
   "outputs": [
    {
     "name": "stdout",
     "output_type": "stream",
     "text": [
      "[ 2, 2, 4, 3, 1 ]\n"
     ]
    }
   ],
   "source": [
    "(()=>{\n",
    "    \n",
    "\n",
    "    const push = (head) =>\n",
    "         (value) => {\n",
    "          const node = {value,next: head};\n",
    "          return node;\n",
    "       }\n",
    "    \n",
    "    \n",
    "    const peak = (head) => head.value;\n",
    "    \n",
    "    const pop = (head) => {  \n",
    "        const auxNode = head ?? {};\n",
    "        return auxNode.next;\n",
    "    }\n",
    "        \n",
    "    const getIterator = (head) => \n",
    "    (function*(){\n",
    "    let auxNode = head ?? {}\n",
    "      while(auxNode.value){\n",
    "        yield auxNode.value\n",
    "        auxNode = auxNode.next ?? {}\n",
    "      }\n",
    "    })()\n",
    "    \n",
    "            \n",
    "let stack;\n",
    "\n",
    "stack = push(stack)(1)\n",
    "stack = push(stack)(2)\n",
    "peak(stack) // 2\n",
    "stack = pop(stack)\n",
    "peak(stack) // 1\n",
    "\n",
    "stack = push(stack)( 3)\n",
    "stack = push(stack)( 4)\n",
    "stack = push(stack)( 2)\n",
    "stack = push(stack)( 2)\n",
    "\n",
    "console.log([...getIterator(stack)])\n",
    "        \n",
    "})(); "
   ]
  },
  {
   "cell_type": "markdown",
   "id": "a6619a1c",
   "metadata": {},
   "source": [
    "Sols cambiem push i la manera de cridar-la. També hem fer algunes de les funcions fletxa per minimitzar el codi."
   ]
  },
  {
   "cell_type": "code",
   "execution_count": null,
   "id": "4e14aecd",
   "metadata": {},
   "outputs": [],
   "source": []
  }
 ],
 "metadata": {
  "kernelspec": {
   "display_name": "JavaScript (Node.js)",
   "language": "javascript",
   "name": "javascript"
  },
  "language_info": {
   "file_extension": ".js",
   "mimetype": "application/javascript",
   "name": "javascript",
   "version": "14.18.1"
  }
 },
 "nbformat": 4,
 "nbformat_minor": 5
}
